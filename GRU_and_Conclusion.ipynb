{
 "cells": [
  {
   "cell_type": "markdown",
   "id": "b19f152e-cdfa-4450-9121-43ac69350d53",
   "metadata": {},
   "source": [
    "### 2.10. Sentiment Classification using GRU model\n",
    "\n",
    "Gated Recurrent Unit (GRU) models are a particular type of Recurrent Neural Network (RNN) architectures that have been specifically developed to handle sequential input. This characteristic puts them very appropriate for tasks such as sentiment analysis of textual data. Graph Recurrent Units (GRUs) are an advancement of the conventional Recurrent Neural Network (RNN) that seek to address the issue of vanishing gradients by employing a more straightforward structure in contrast to Long Short-Term Memory (LSTM) models. Dependencies in sequences, such as the sentiment represented in IMDB movie reviews, can be effectively and efficiently modeled using these models.\n",
    "\n",
    "The management of sequence information in GRUs is facilitated by two distinct gates, namely the update gate and the reset gate. The update gate facilitates the model's ability to ascertain the quantity of prior information (derived from preceding time steps) that must be propagated to subsequent time steps. The reset gate determines the extent to which the previous information is to be ignored. The utilization of this gating mechanism enables GRUs to effectively capture interdependencies across many temporal scales, rendering them highly effective in the analysis of word sequences within movie reviews for the purpose of sentiment classification."
   ]
  },
  {
   "cell_type": "code",
   "execution_count": 7,
   "id": "701b2b6b-34bd-4f2a-80d9-afb65b4c73e2",
   "metadata": {},
   "outputs": [
    {
     "data": {
      "text/html": [
       "<pre style=\"white-space:pre;overflow-x:auto;line-height:normal;font-family:Menlo,'DejaVu Sans Mono',consolas,'Courier New',monospace\"><span style=\"font-weight: bold\">Model: \"sequential_2\"</span>\n",
       "</pre>\n"
      ],
      "text/plain": [
       "\u001b[1mModel: \"sequential_2\"\u001b[0m\n"
      ]
     },
     "metadata": {},
     "output_type": "display_data"
    },
    {
     "data": {
      "text/html": [
       "<pre style=\"white-space:pre;overflow-x:auto;line-height:normal;font-family:Menlo,'DejaVu Sans Mono',consolas,'Courier New',monospace\">┏━━━━━━━━━━━━━━━━━━━━━━━━━━━━━━━━━┳━━━━━━━━━━━━━━━━━━━━━━━━┳━━━━━━━━━━━━━━━┓\n",
       "┃<span style=\"font-weight: bold\"> Layer (type)                    </span>┃<span style=\"font-weight: bold\"> Output Shape           </span>┃<span style=\"font-weight: bold\">       Param # </span>┃\n",
       "┡━━━━━━━━━━━━━━━━━━━━━━━━━━━━━━━━━╇━━━━━━━━━━━━━━━━━━━━━━━━╇━━━━━━━━━━━━━━━┩\n",
       "│ embedding_2 (<span style=\"color: #0087ff; text-decoration-color: #0087ff\">Embedding</span>)         │ (<span style=\"color: #00d7ff; text-decoration-color: #00d7ff\">None</span>, <span style=\"color: #00af00; text-decoration-color: #00af00\">2246</span>, <span style=\"color: #00af00; text-decoration-color: #00af00\">32</span>)       │       <span style=\"color: #00af00; text-decoration-color: #00af00\">160,000</span> │\n",
       "├─────────────────────────────────┼────────────────────────┼───────────────┤\n",
       "│ bidirectional (<span style=\"color: #0087ff; text-decoration-color: #0087ff\">Bidirectional</span>)   │ (<span style=\"color: #00d7ff; text-decoration-color: #00d7ff\">None</span>, <span style=\"color: #00af00; text-decoration-color: #00af00\">64</span>)             │        <span style=\"color: #00af00; text-decoration-color: #00af00\">12,672</span> │\n",
       "├─────────────────────────────────┼────────────────────────┼───────────────┤\n",
       "│ dense_2 (<span style=\"color: #0087ff; text-decoration-color: #0087ff\">Dense</span>)                 │ (<span style=\"color: #00d7ff; text-decoration-color: #00d7ff\">None</span>, <span style=\"color: #00af00; text-decoration-color: #00af00\">1</span>)              │            <span style=\"color: #00af00; text-decoration-color: #00af00\">65</span> │\n",
       "└─────────────────────────────────┴────────────────────────┴───────────────┘\n",
       "</pre>\n"
      ],
      "text/plain": [
       "┏━━━━━━━━━━━━━━━━━━━━━━━━━━━━━━━━━┳━━━━━━━━━━━━━━━━━━━━━━━━┳━━━━━━━━━━━━━━━┓\n",
       "┃\u001b[1m \u001b[0m\u001b[1mLayer (type)                   \u001b[0m\u001b[1m \u001b[0m┃\u001b[1m \u001b[0m\u001b[1mOutput Shape          \u001b[0m\u001b[1m \u001b[0m┃\u001b[1m \u001b[0m\u001b[1m      Param #\u001b[0m\u001b[1m \u001b[0m┃\n",
       "┡━━━━━━━━━━━━━━━━━━━━━━━━━━━━━━━━━╇━━━━━━━━━━━━━━━━━━━━━━━━╇━━━━━━━━━━━━━━━┩\n",
       "│ embedding_2 (\u001b[38;5;33mEmbedding\u001b[0m)         │ (\u001b[38;5;45mNone\u001b[0m, \u001b[38;5;34m2246\u001b[0m, \u001b[38;5;34m32\u001b[0m)       │       \u001b[38;5;34m160,000\u001b[0m │\n",
       "├─────────────────────────────────┼────────────────────────┼───────────────┤\n",
       "│ bidirectional (\u001b[38;5;33mBidirectional\u001b[0m)   │ (\u001b[38;5;45mNone\u001b[0m, \u001b[38;5;34m64\u001b[0m)             │        \u001b[38;5;34m12,672\u001b[0m │\n",
       "├─────────────────────────────────┼────────────────────────┼───────────────┤\n",
       "│ dense_2 (\u001b[38;5;33mDense\u001b[0m)                 │ (\u001b[38;5;45mNone\u001b[0m, \u001b[38;5;34m1\u001b[0m)              │            \u001b[38;5;34m65\u001b[0m │\n",
       "└─────────────────────────────────┴────────────────────────┴───────────────┘\n"
      ]
     },
     "metadata": {},
     "output_type": "display_data"
    },
    {
     "data": {
      "text/html": [
       "<pre style=\"white-space:pre;overflow-x:auto;line-height:normal;font-family:Menlo,'DejaVu Sans Mono',consolas,'Courier New',monospace\"><span style=\"font-weight: bold\"> Total params: </span><span style=\"color: #00af00; text-decoration-color: #00af00\">172,737</span> (674.75 KB)\n",
       "</pre>\n"
      ],
      "text/plain": [
       "\u001b[1m Total params: \u001b[0m\u001b[38;5;34m172,737\u001b[0m (674.75 KB)\n"
      ]
     },
     "metadata": {},
     "output_type": "display_data"
    },
    {
     "data": {
      "text/html": [
       "<pre style=\"white-space:pre;overflow-x:auto;line-height:normal;font-family:Menlo,'DejaVu Sans Mono',consolas,'Courier New',monospace\"><span style=\"font-weight: bold\"> Trainable params: </span><span style=\"color: #00af00; text-decoration-color: #00af00\">172,737</span> (674.75 KB)\n",
       "</pre>\n"
      ],
      "text/plain": [
       "\u001b[1m Trainable params: \u001b[0m\u001b[38;5;34m172,737\u001b[0m (674.75 KB)\n"
      ]
     },
     "metadata": {},
     "output_type": "display_data"
    },
    {
     "data": {
      "text/html": [
       "<pre style=\"white-space:pre;overflow-x:auto;line-height:normal;font-family:Menlo,'DejaVu Sans Mono',consolas,'Courier New',monospace\"><span style=\"font-weight: bold\"> Non-trainable params: </span><span style=\"color: #00af00; text-decoration-color: #00af00\">0</span> (0.00 B)\n",
       "</pre>\n"
      ],
      "text/plain": [
       "\u001b[1m Non-trainable params: \u001b[0m\u001b[38;5;34m0\u001b[0m (0.00 B)\n"
      ]
     },
     "metadata": {},
     "output_type": "display_data"
    },
    {
     "name": "stdout",
     "output_type": "stream",
     "text": [
      "None\n",
      "ok\n"
     ]
    }
   ],
   "source": [
    "# Building the GRU model\n",
    "\n",
    "# Define parameters\n",
    "n_timesteps = data_train_padded.shape[0] # number of samples \n",
    "n_features = data_train_padded.shape[1]  # length of our input sequences after preprocessing (padding)\n",
    "n_outputs = data_train_label.shape[0]\n",
    "vocab_size = 5000\n",
    "embd_len = 32\n",
    "\n",
    "# Define the models\n",
    "thisGRU = Sequential()\n",
    "thisGRU.add(Embedding(input_dim=vocab_size, \n",
    "                       output_dim = 32, \n",
    "                       input_shape=(n_features,)))\n",
    "thisGRU.add(Bidirectional(GRU(32)))\n",
    "thisGRU.add(Dense(1, activation ='sigmoid'))\n",
    "\n",
    "# Compile the model\n",
    "thisGRU.compile(optimizer='rmsprop', loss='binary_crossentropy', metrics=['accuracy'])\n",
    "\n",
    "# Model summary\n",
    "print(thisGRU.summary())\n",
    "\n",
    "# Check\n",
    "print(\"ok\")"
   ]
  },
  {
   "cell_type": "code",
   "execution_count": 8,
   "id": "47bc4503-b33f-40b9-9507-ec2c8e520f51",
   "metadata": {},
   "outputs": [
    {
     "name": "stdout",
     "output_type": "stream",
     "text": [
      "Time = 2024-04-05 16:51:43.932926\n",
      "Epoch 1/10\n",
      "\u001b[1m500/500\u001b[0m \u001b[32m━━━━━━━━━━━━━━━━━━━━\u001b[0m\u001b[37m\u001b[0m \u001b[1m613s\u001b[0m 1s/step - accuracy: 0.5791 - loss: 0.6623\n",
      "Epoch 2/10\n",
      "\u001b[1m500/500\u001b[0m \u001b[32m━━━━━━━━━━━━━━━━━━━━\u001b[0m\u001b[37m\u001b[0m \u001b[1m605s\u001b[0m 1s/step - accuracy: 0.7646 - loss: 0.5111\n",
      "Epoch 3/10\n",
      "\u001b[1m500/500\u001b[0m \u001b[32m━━━━━━━━━━━━━━━━━━━━\u001b[0m\u001b[37m\u001b[0m \u001b[1m598s\u001b[0m 1s/step - accuracy: 0.8278 - loss: 0.4032\n",
      "Epoch 4/10\n",
      "\u001b[1m500/500\u001b[0m \u001b[32m━━━━━━━━━━━━━━━━━━━━\u001b[0m\u001b[37m\u001b[0m \u001b[1m642s\u001b[0m 1s/step - accuracy: 0.8522 - loss: 0.3569\n",
      "Epoch 5/10\n",
      "\u001b[1m500/500\u001b[0m \u001b[32m━━━━━━━━━━━━━━━━━━━━\u001b[0m\u001b[37m\u001b[0m \u001b[1m606s\u001b[0m 1s/step - accuracy: 0.8682 - loss: 0.3240\n",
      "Epoch 6/10\n",
      "\u001b[1m500/500\u001b[0m \u001b[32m━━━━━━━━━━━━━━━━━━━━\u001b[0m\u001b[37m\u001b[0m \u001b[1m608s\u001b[0m 1s/step - accuracy: 0.8793 - loss: 0.2953\n",
      "Epoch 7/10\n",
      "\u001b[1m500/500\u001b[0m \u001b[32m━━━━━━━━━━━━━━━━━━━━\u001b[0m\u001b[37m\u001b[0m \u001b[1m609s\u001b[0m 1s/step - accuracy: 0.8837 - loss: 0.2849\n",
      "Epoch 8/10\n",
      "\u001b[1m500/500\u001b[0m \u001b[32m━━━━━━━━━━━━━━━━━━━━\u001b[0m\u001b[37m\u001b[0m \u001b[1m606s\u001b[0m 1s/step - accuracy: 0.8924 - loss: 0.2683\n",
      "Epoch 9/10\n",
      "\u001b[1m500/500\u001b[0m \u001b[32m━━━━━━━━━━━━━━━━━━━━\u001b[0m\u001b[37m\u001b[0m \u001b[1m608s\u001b[0m 1s/step - accuracy: 0.8952 - loss: 0.2600\n",
      "Epoch 10/10\n",
      "\u001b[1m500/500\u001b[0m \u001b[32m━━━━━━━━━━━━━━━━━━━━\u001b[0m\u001b[37m\u001b[0m \u001b[1m608s\u001b[0m 1s/step - accuracy: 0.8992 - loss: 0.2492\n",
      "Time = 2024-04-05 18:33:26.924939\n"
     ]
    }
   ],
   "source": [
    "# Train the GRU model\n",
    "print(\"Time =\", datetime.now())\n",
    "history = thisGRU.fit(data_train_padded, data_train_label, epochs=10, batch_size=64)\n",
    "print(\"Time =\", datetime.now())"
   ]
  },
  {
   "cell_type": "markdown",
   "id": "d1bdaef7-8df1-40b4-a5ea-cf677bf3d98e",
   "metadata": {},
   "source": [
    "### 2.11. The Performance of GRU model\n",
    "\n",
    "The GRU model achieved an accuracy of $89.92\\%$ on the IMDB movie reviews dataset. The lowest loss value recorded is $24.92 \\%$.\n",
    "\n",
    "**Accuracy**\n",
    "\n",
    "GRUs have been found to predict binary text data of movie reviews bettern than LSTM in the previous experiment. \n",
    "\n",
    "**Training Time**\n",
    "\n",
    "GRUs are computationally less expensive compared to LSTMs, which leads to faster training time. \n",
    "\n",
    "**Model Size**\n",
    "\n",
    "GRUs have fewer parameters than LSTMs, which results in a smaller model size. "
   ]
  },
  {
   "cell_type": "code",
   "execution_count": 14,
   "id": "43c4b8ae-be7d-4be7-8357-ac206e20ebfc",
   "metadata": {},
   "outputs": [
    {
     "name": "stdout",
     "output_type": "stream",
     "text": [
      "Evaluate on test data\n",
      "\u001b[1m125/125\u001b[0m \u001b[32m━━━━━━━━━━━━━━━━━━━━\u001b[0m\u001b[37m\u001b[0m \u001b[1m36s\u001b[0m 286ms/step - accuracy: 0.5659 - loss: 0.9299\n",
      "Test loss, Test accuracy: [0.9452192783355713, 0.5691249966621399]\n",
      "\u001b[1m250/250\u001b[0m \u001b[32m━━━━━━━━━━━━━━━━━━━━\u001b[0m\u001b[37m\u001b[0m \u001b[1m52s\u001b[0m 209ms/step\n",
      "[[4031    0]\n",
      " [3969    0]]\n"
     ]
    },
    {
     "data": {
      "image/png": "[encoded data removed]",
      "text/plain": [
       "<Figure size 500x400 with 2 Axes>"
      ]
     },
     "metadata": {},
     "output_type": "display_data"
    }
   ],
   "source": [
    "# Evaluate the model on the test data using `evaluate`\n",
    "print(\"Evaluate on test data\")\n",
    "results = thisGRU.evaluate(data_test_padded, data_test_label, batch_size=64)\n",
    "print(\"Test loss, Test accuracy:\", results)\n",
    "\n",
    "# Plot confusion matrix\n",
    "from sklearn.metrics import confusion_matrix\n",
    "\n",
    "# Predict the probabilities for the test data\n",
    "probabilities_GRU = thisGRU.predict(data_test_padded)\n",
    "\n",
    "# Convert probabilities to class labels\n",
    "predictions_GRU = np.argmax(probabilities_GRU, axis=1)\n",
    "\n",
    "# Compute the confusion matrix using TensorFlow\n",
    "conf_matrix_GRU = tf.math.confusion_matrix(data_test_label, predictions_GRU)\n",
    "\n",
    "# To print the confusion matrix, you need to run it within a TensorFlow session (for TensorFlow 1.x)\n",
    "# For TensorFlow 2.x, you can directly print it as it executes eagerly\n",
    "print(conf_matrix_GRU.numpy())\n",
    "\n",
    "# Assuming conf_matrix is the confusion matrix obtained from TensorFlow\n",
    "conf_matrix_np = conf_matrix_GRU.numpy()\n",
    "\n",
    "plt.figure(figsize=(5, 4))\n",
    "sns.heatmap(conf_matrix_np, annot=True, fmt='g')\n",
    "plt.xlabel('Predicted')\n",
    "plt.ylabel('True')\n",
    "plt.show()"
   ]
  },
  {
   "cell_type": "markdown",
   "id": "97c9b285-c9fd-4c7b-861f-0f67017a6d31",
   "metadata": {},
   "source": [
    "In this study, we use a confusion matrix that summarizes the performance of the Plain Vanilla RNN model as below. \n",
    "\n",
    "The confusion matrix displays the number of instances the model produces on the test data.\n",
    "\n",
    "- True positives (TP): occur when the GRU model accurately predicts a positive data point.\n",
    "- True negatives (TN): occur when the GRU model accurately predicts a negative data point.\n",
    "- False positives (FP): occur when the GRU model predicts a positive data point incorrectly.\n",
    "- False negatives (FN): occur when the GRU model mispredicts a negative data point."
   ]
  },
  {
   "cell_type": "markdown",
   "id": "1fca683a-10c8-45f8-a4b9-6f513c194b11",
   "metadata": {},
   "source": [
    "# 3. Results and Analysis\n",
    "\n"
   ]
  },
  {
   "cell_type": "markdown",
   "id": "a414e9cd-e019-4354-89d5-9bfdb3375866",
   "metadata": {},
   "source": [
    "### 3.1. Analysis of Plain Vanilla RNN Model\n",
    "\n",
    "Recurrent Neural Networks (RNNs) are fundamental sequence models that employ an iterative approach to process sequences, wherein the result from the preceding phase is utilised as an input for the current stage. Recurrent connections allow for the retention of \"memory\" from previous time steps.\n",
    "\n",
    "The advantages of Plain Vanilla RNN model:\n",
    "- The construction is simple.\n",
    "- Appropriate for tasks involving short sequences.\n",
    "\n",
    "The disadvantages of Plain Vanilla RNN model:\n",
    "- Simple RNN suffers from the exploding and vanishing gradient problem, making it hard to learn long-term dependencies\n",
    "- Limited memory span\n"
   ]
  },
  {
   "cell_type": "markdown",
   "id": "7b12b9c2-6701-4af9-953f-94f9f108bea4",
   "metadata": {},
   "source": [
    "### 3.2. Analysis of LSTM Model\n",
    "\n",
    "LSTMs are an enhancement over standard RNNs, designed to better capture long-term dependencies in sequences. LSTM uses gates (input, forget, and output) to regulate the flow of information. LSTM has a cell state in addition to the hidden state to carry information across long sequences.\n",
    "\n",
    "The advantages of LSTM Model:\n",
    "- LSTM model can capture and remember long-term dependencies in data.\n",
    "- LSTM mitigates the vanishing gradient problem of RNNs.\n",
    "\n",
    "The disadvantages of LSTM Model:\n",
    "- Requires far more processing resources than RNNs\n",
    "- Increased complexity can result in extended training durations.\n"
   ]
  },
  {
   "cell_type": "markdown",
   "id": "a8f29730-3398-44ac-a765-7ed1605d2b22",
   "metadata": {},
   "source": [
    "### 3.3. Analysis of GRU  Model\n",
    "\n",
    "GRUs are a variation of LSTMs with a simplified gating mechanism. GRU contains two gates: reset gate and update gate. GRU merges the cell state and hidden state.\n",
    "\n",
    "The advantages of GRU model:\n",
    "- GRU has fewer parameters than LSTM, most likely leading to faster training times.\n",
    "- GRU has simplified structure while retaining the ability to capture long-term dependencies.\n",
    "\n",
    "The disadvantages of GRU model: \n",
    "- GRU model might not capture long-term dependencies as effectively as LSTM in some tasks."
   ]
  },
  {
   "cell_type": "markdown",
   "id": "ec36c0ce-e468-4cf1-905a-2976e85e4e40",
   "metadata": {},
   "source": [
    "### 3.4. Comparative Analysis\n",
    "\n",
    "Long Short-Term Memory (LSTM) models exhibit higher computing demands than simpler models, resulting in extended training durations. Unlike simple RNNs, LSTMs have a special architecture that includes memory cells and gates (input, output, and forget gates), enabling them to remember important information over long sequences and forget irrelevant information. This indicates that while LSTMs are powerful for sentiment analysis, combining them with other architectures like CNNs can yield even better results."
   ]
  },
  {
   "cell_type": "markdown",
   "id": "a3c4636d-3b1c-4498-9da3-f13cf4035aa2",
   "metadata": {},
   "source": [
    "# 4. Conclusion and Future Work\n",
    "### 4.1. Summary of the Project\n",
    "\n",
    "As seen previously, RNNs, LSTMs, and GRUs all function based on the concept of recurrence and sequential data processing. Every model possesses distinct advantages and optimal uses, and the selection of a model is contingent upon the particular task, data, and resources at hand.\n",
    "\n",
    "**Overall Performance**\n",
    "\n",
    "GRUs have been observed to perform better than LSTM and Simple RNN models in this binary sentiment analysis tasks. Out of all the models, for the given dataset of IMDB reviews, the GRU model gave the best result in terms of accuracy. \n",
    "\n",
    "**Computational Efficiency**\n",
    "\n",
    "GRUs are generally more computationally efficient than LSTMs due to their simpler structure. \n",
    "\n",
    "**Accuracy Achievements**\n",
    "\n",
    "In this study, a GRU model reported a $89.92\\%$  accuracy. \n",
    "\n",
    "### 4.2. Areas for Enhancement and Prospects for Future Research\n",
    "\n",
    "**Transfer Learning**\n",
    "\n",
    "Transfer learning is a technique that entails the utilisation of a pre-trained model on a novel job with little adjustments. Pre-trained Long Short-Term Memory (LSTM) models, such as Word2Vec and GloVe, can be adjusted to do specific tasks, hence minimising the requirement for a large amount of labelled data. This strategy has the potential to greatly decrease the amount of time and resources needed for training the model.\n",
    "\n",
    "**Real Time and Online Learning**\n",
    "\n",
    "Adapting LSTM and GRU models to real-time or online learning scenarios is an ongoing research area. In such scenarios, models continuously update their predictions as new data arrives, which is crucial for applications like stock market prediction and Internet of Things (IoT) sensor data analysis\n",
    "\n",
    "**Attention Mechanism**\n",
    "Combining LSTM and GRU models with attention mechanisms allows the models to focus on relevant parts of the input sequence, improving performance in tasks like machine translation and summarization."
   ]
  },
  {
   "cell_type": "markdown",
   "id": "4841eb5c-d083-4aaa-8487-dc9b4ded6ff3",
   "metadata": {},
   "source": [
    "# Thank you"
   ]
  },
  {
   "cell_type": "code",
   "execution_count": null,
   "id": "b87f0bd4-9cd6-45aa-9f06-c148abeb700e",
   "metadata": {},
   "outputs": [],
   "source": []
  }
 ],
 "metadata": {
  "kernelspec": {
   "display_name": "Python 3 (ipykernel)",
   "language": "python",
   "name": "python3"
  },
  "language_info": {
   "codemirror_mode": {
    "name": "ipython",
    "version": 3
   },
   "file_extension": ".py",
   "mimetype": "text/x-python",
   "name": "python",
   "nbconvert_exporter": "python",
   "pygments_lexer": "ipython3",
   "version": "3.11.7"
  }
 },
 "nbformat": 4,
 "nbformat_minor": 5
}

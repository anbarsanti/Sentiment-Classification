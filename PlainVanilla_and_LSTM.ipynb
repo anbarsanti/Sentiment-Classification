{
 "cells": [
  {
   "cell_type": "markdown",
   "id": "e343e655-a324-442c-b334-d26ac9a9040a",
   "metadata": {},
   "source": [
    "﷽\n",
    "\n",
    "# Sentiment Classification for IMDB Movie Reviews\n",
    "\n",
    "#### Nurfitri Anbarsanti (G2104045K)\n",
    "\n",
    "<b> An Assignment required in </b><br>\n",
    "<b> EE7207 Neural and Fuzzy Systems </b><br>\n",
    "<b> Lecturer: Nick Luo Wuqiong </b>\n",
    "\n",
    "2023/2024 Semester 2<br>\n",
    "School of Electrical and Electronic Engineering<br>\n",
    "Nanyang Technological University"
   ]
  },
  {
   "cell_type": "markdown",
   "id": "ad875c05-7af6-4d51-9046-520706600c96",
   "metadata": {},
   "source": [
    "## Abstract"
   ]
  },
  {
   "cell_type": "markdown",
   "id": "0f7962ca-f528-4ea4-a35b-e09c4787bcf8",
   "metadata": {},
   "source": [
    "## Acknowledgement\n",
    "I would like to express my greatest gratitude to Mr. Nick Luo Wuqiong for his excellent support, knowledge, and constant encouragement during the execution of this assignment. His deep knowledge in the subject matter and insightful feedback have not only deepened my comprehension but also significantly improved the standard of my work.\n"
   ]
  },
  {
   "cell_type": "markdown",
   "id": "600165fc-2e5c-4e6a-9e14-d791b2336158",
   "metadata": {},
   "source": [
    "## 1. Introduction \n",
    "\n",
    "### 1.1 Recurrent Neural Network<br>\n",
    "\n",
    "<img src=\"https://raw.githubusercontent.com/donnemartin/data-science-ipython-notebooks/5b3c00d462c6e9200315afe46d0093948621eb95/deep-learning/keras-tutorial/imgs/rnn.png\" alt=\"Cat\" style=\"width: 100px;\"/>\n",
    "\n",
    "An RNN is a type of artificial neural network that consists of interconnected units that follow a directed cycle. The network's internal state is established, enabling it to demonstrate dynamic temporal behavior.<br>\n",
    "\n",
    "### 1.2 Backprop Through time\n",
    "\n",
    "<img src=\"https://raw.githubusercontent.com/donnemartin/data-science-ipython-notebooks/5b3c00d462c6e9200315afe46d0093948621eb95/deep-learning/keras-tutorial/imgs/rnn2.png\" alt=\"Cat\" style=\"width: 200px;\"/>\n",
    "\n",
    "In contrast to feed-forward neural networks, recurrent neural networks (RNNs) has the capability to encode longer historical information, making them particularly well-suited for sequential models. The Backpropagation Through Time expands upon the standard Backpropagation method to accommodate the building of recurrent neural networks.\n",
    "\n",
    "### 1.3 Sentiment Classification\n",
    "\n",
    "This study will build a sentiment classifier using at least, Recurrent Neural Networks (RNNs) and Long Short-Term Memory (LSTM) networks. Both are powerful approaches in the field of natural language processing (NLP) for determining the emotional tone behind a sequence of text. We utilize dataset stored as CSV files containing movie reviews from IMDB. "
   ]
  },
  {
   "cell_type": "markdown",
   "id": "97fcb27c-277c-4020-be88-8f7988dc1fe7",
   "metadata": {},
   "source": [
    "## 2. Methods\n",
    "\n",
    "### 2.1 Dataset\n",
    "\n",
    "In this study, we are given a set of training data from the file named `movie_train.csv` that has textual reviews of movies, accompanied by their respective sentiment labels. Every row in the dataset corresponds to a review, and the corresponding sentiment label is included. The file named `movie_test.csv` provides the test data. \n",
    "\n",
    "The training data consists of $32,000$ data, and their dimension is padded to their maximum length. The training data is complemented with their label, which consists of $32,000$ labels as well, and its dimension is $1$. The labels are either $0$ or $1$. The label $0$ means its sentiment is `negative`, and the label $1$ means that its sentiment is `positive`.\n",
    "\n",
    "We are also given a set of testing data from `movie_test.csv`, which consists of $8,000$ in data, and their dimension is padded to their maximum length. Its labels' dimension is $1$ as well.\n",
    "\n",
    "The dataset is divided into $80\\%$ for the training set and the rest of $20\\%$ for the validation data set."
   ]
  },
  {
   "cell_type": "markdown",
   "id": "b3462d92-946f-4bb8-8a50-e82caf14ae1d",
   "metadata": {},
   "source": [
    "### 2.2 Experimental Setting\n",
    "\n",
    "The Jupyter Notebook is installed locally, which hopefully gives us more flexibility, although it requires more effort to configure it. In this study, we set our own environment using the `conda` environment. The necessary dependencies are Python, Tensorflow, and Keras. \n",
    "\n",
    "TensorFlow is one of the earliest deep-learning frameworks and has a mature ecosystem with extensive documentation, tutorials, and resources. Keras, now tightly integrated into TensorFlow, provides a high-level API for building and training neural networks, making it easy to prototype and experiment with different architectures quickly. In this study, we choose Tensorflow and Keras to build the RNN sentiment classifier."
   ]
  },
  {
   "cell_type": "markdown",
   "id": "770139e7-b01d-4e7c-8c82-a3e26b61c488",
   "metadata": {},
   "source": [
    "### 2.3 Importing Libraries"
   ]
  },
  {
   "cell_type": "code",
   "execution_count": 107,
   "id": "bd0e9f11-d37b-4906-b569-c5ded6db6a87",
   "metadata": {},
   "outputs": [],
   "source": [
    "# Importing Libraries\n",
    "from pandas import read_csv\n",
    "import numpy as np\n",
    "import pandas as pd\n",
    "from keras.models import Sequential, load_model\n",
    "from keras.layers import Dense, SimpleRNN, Embedding, LSTM, GRU, Dropout, Bidirectional\n",
    "from sklearn.preprocessing import MinMaxScaler\n",
    "from sklearn.preprocessing import LabelEncoder\n",
    "from sklearn.metrics import mean_squared_error\n",
    "import seaborn as sns\n",
    "import math\n",
    "import matplotlib.pyplot as plt\n",
    "import tensorflow as tf\n",
    "from tensorflow.keras.preprocessing.text import Tokenizer\n",
    "from tensorflow.keras.preprocessing.sequence import pad_sequences\n",
    "from tensorflow.keras.models import Sequential\n",
    "from tensorflow.keras.layers import Embedding, SimpleRNN, Dense\n",
    "from datetime import datetime\n"
   ]
  },
  {
   "cell_type": "markdown",
   "id": "ee403ba7-2f4c-4947-be6f-cbc951ccb842",
   "metadata": {},
   "source": [
    "### 2.4. Data Loading and Cleaning\n",
    "\n",
    "The implementation of preprocessing techniques on input text before its utilization with Recurrent Neural Networks (RNNs) and Long Short-Term Memory (LSTM) networks plays a pivotal role in enhancing the efficiency of these models in addressing natural language processing tasks. The primary objective of preprocessing is to transform unprocessed text into a structured format that can be read and analyzed by the models.\n",
    "\n",
    "<u>Data Loading</u>\n",
    "\n",
    "Pandas library has been imported, and the `read_csv` function is used to load the CSV file. The labels are converted from the categorized form into a number form using `fit_transform function`.\n",
    "\n",
    "<u>Text Cleaning</u>\n",
    "\n",
    "In this step, we remove and replace symbols (`<br>`, `</br>` and `<br />`) and special characters that are not relevant to the analysis.\n"
   ]
  },
  {
   "cell_type": "code",
   "execution_count": 68,
   "id": "5710ac5c-36cf-4cd0-bf6f-82c9f616d9a5",
   "metadata": {},
   "outputs": [],
   "source": [
    "# Load the Training Dataset\n",
    "data_train = pd.read_csv('movie_train.csv')\n",
    "data_train_text = data_train.iloc[:,0]\n",
    "data_train_label = data_train.iloc[:,1]\n",
    "data_train_label = np.array(data_train_label)\n",
    "data_train_label = LabelEncoder().fit_transform(data_train_label)\n",
    "\n",
    "# Load the Testing Dataset\n",
    "data_test = pd.read_csv('movie_test.csv')\n",
    "data_test_text = data_test.iloc[:,0]\n",
    "data_test_label = data_test.iloc[:,1]\n",
    "data_test_label = np.array(data_test_label)\n",
    "data_test_label = LabelEncoder().fit_transform(data_test_label)\n",
    "\n",
    "# Data Preprocess to remove \"<br> and </br>\" in the Training data texts\n",
    "data_train_text = data_train_text.str.replace('<br>','')\n",
    "data_train_text = data_train_text.str.replace('</br>','')\n",
    "data_train_text = data_train_text.str.replace('<br />','')\n",
    "\n",
    "# Data Preprocess to remove \"<br> and </br>\" in the Testing data texts\n",
    "data_test_text = data_test_text.str.replace('<br>','')\n",
    "data_test_text = data_test_text.str.replace('</br>','')\n",
    "data_test_text = data_test_text.str.replace('<br />','')"
   ]
  },
  {
   "cell_type": "markdown",
   "id": "70115005-b645-4bb1-b643-d94106043906",
   "metadata": {},
   "source": [
    "### 2.5. Tokenization\n",
    "\n",
    "The training data should be tokenized. We are using the TensorFlow (Keras) Tokenizer class. Initially, we instantiate the Tokenizer object, which determines the maximum number of words to retain in our vocabulary following tokenization. Additionally, we assign an out-of-vocabulary token to encode test data words that we have not encountered during our training. Without this token, these previously unseen words would be automatically excluded from our vocabulary and remain unaccounted for.\n",
    "\n",
    "<b>2.5.1. Obtain the word index</b>\n",
    "\n",
    "One consequence of the tokenization procedure is generating a word index, which establishes a correspondence between words in our lexicon and their numerical representation. \n",
    "\n",
    "<b>2.5.2. Encoding the training data sentences into sequences </b>\n",
    "\n",
    "In this process, we transform our textual statements from \"My name is Matthew\" to \"6 8 2 19,\" where each number corresponds to the appropriate words in the index. Given that neural networks operate by executing numerical computations, it is not feasible to input a collection of words.\n",
    "\n",
    "<b>2.5.3. Determine the maximum length of the training sequence</b>\n",
    "\n",
    "We opt to identify the longest encoded sequence and utilize it as the maximum length for our sequence. Various justifications exist for refraining from engaging in this behavior; nevertheless, there are other instances where it might be deemed suitable. The `maxlentrain` and `maxlentest` variable is subsequently employed in the actual padding of the training sequence and the testing sequence subsequently. \n",
    "\n",
    "<b>2.5.4. Padding the sequences</b>\n",
    "\n",
    "As previously stated, our encoded sequences must have identical lengths. We have determined the length of the longest sequence and will utilize it to append additional '0's at the end ('post') to all subsequent sequences. Additionally, we will terminate any sequences that exceed the maximum length from the end ('post'). To achieve this, we utilize the TensorFlow (Keras) pad_sequences module. Refer to the manual for supplementary padding alternatives."
   ]
  },
  {
   "cell_type": "code",
   "execution_count": 69,
   "id": "fb1afb86-5a3f-4241-924d-d61dc2829fbc",
   "metadata": {},
   "outputs": [],
   "source": [
    "# Initialize and fit the tokenizer\n",
    "tokenizer = Tokenizer(num_words=1000, oov_token=\"<OOV>\")\n",
    "tokenizer.fit_on_texts(data_train_text)\n",
    "\n",
    "# Get our training data word index\n",
    "word_index = tokenizer.word_index\n",
    "\n",
    "# Convert sentences to sequences of integers\n",
    "data_train_sequences = tokenizer.texts_to_sequences(data_train_text)\n",
    "\n",
    "# Get max training sequence length\n",
    "maxlentrain = max([len(x) for x in data_train_sequences])\n",
    "\n",
    "# Pad sequences to ensure uniform length\n",
    "data_train_padded = pad_sequences(data_train_sequences, padding='post', maxlen=maxlentrain)\n",
    "\n",
    "# Step 2-B: Tokenization for testing data\n",
    "# Initialize and fit the tokenizer\n",
    "# oov_token = <UNK>\n",
    "tokenizer = Tokenizer(num_words=1000, oov_token=\"<OOV>\")\n",
    "tokenizer.fit_on_texts(data_test_text)\n",
    "\n",
    "# Get our training data word index\n",
    "word_index = tokenizer.word_index\n",
    "\n",
    "# Convert sentences to sequences of integers\n",
    "data_test_sequences = tokenizer.texts_to_sequences(data_test_text)\n",
    "\n",
    "# Get max training sequence length\n",
    "maxlentest = max([len(x) for x in data_test_sequences])\n",
    "\n",
    "# Pad sequences to ensure uniform length\n",
    "data_test_padded = pad_sequences(data_test_sequences, padding='post', maxlen=maxlentest)"
   ]
  },
  {
   "cell_type": "markdown",
   "id": "81207501-2d40-4bfd-a68c-7320620c948a",
   "metadata": {},
   "source": [
    "<b>2.5.6. Check the tokenized and padded data</b>\n",
    "\n",
    "In this step, we are checking the type, shape, and padded results of our data. We also check the sample of untokenized training data. "
   ]
  },
  {
   "cell_type": "code",
   "execution_count": 70,
   "id": "b67d8f0a-28d8-4c1b-ae4f-97ed809b5f92",
   "metadata": {},
   "outputs": [
    {
     "name": "stdout",
     "output_type": "stream",
     "text": [
      "\n",
      "--- Training Data ---\n",
      "\n",
      "One example of the training data text:\n",
      " The film Classe tous risques directed by Claude Sautet was not a film, to be honest, I had ever really heard of until the Film Forum in NYC said that they would have a 2-week screening of the film, with new English subtitles. When I also read that it was in the vein of the classic French crime films ala Jean Pierre Melville, I jumped at the chance to check it out (at best it would rank up with his great works, and at worst I would get some good popcorn in a great theater). It was well worth the admission, as Classe tous risques is one of those kinds of French films that is just waiting to be re-discovered (or discovered for the first time). With terrific, tense diligence, Sautet keeps the suspense at a tight pitch for the first forty minutes of the film, keeping a good (if not great) middle section, and then ending it up with what is always expected with these films, but with fascinating motivations by way of the characters. With a film in the vein of this sort, you know how it will end, but it's the cool, observant journey that counts.The film features a performance with some real truth and honesty, amid the \"old-school\" criminal's code, by Lino Ventura as Aldo, who at the start of the film (one of the best beginnings to a film in this genre and country) steals a hefty amount of money with his partner in crime). When there is a sudden, ugly twist of fate on a beach late one night, Aldo is again on the run with two little kids. He gets the aid of Eric Stark (Jean-Paul Belmondo, a role in tune with Le Doulos only with a smidgen more humanity and charisma), who is also a thief and drives him into Paris. But there are some problems with some of Aldo's old business partner's, and one old score may be just the right ticket. A couple of times the plot may seem to be leisurely, but it isn't. Like Melville, Sautet doesn't allow any fat to his story, and it's a very tightly structured film, with some good doses of humor here and there (I was sometimes grinning at the audacity of the criminals in the beginning chase sequence, and also with a particular woman who had a finicky thing with her cat and a fish).Along with a fine score by the great George Delerue, exceptional cinematography, and a mood that is seldom met let alone matched now adays, Classe tous risques is a reminder of that bridge between the real old-school film-noir, and the latter day crime films. Gangsters in these new sort of \"thug-life\" movies have a 1000th of the class and honor of the thieves in this film, and is a second banana to the works of Melville and Jules Dassin (a compliment I assure you). That it has a good realistic, moral edge helps as well.\n",
      "\n",
      "Padded training sequences:\n",
      " [[940   1   3 ...   0   0   0]\n",
      " [ 81  16 421 ...   0   0   0]\n",
      " [ 10 423 263 ...   0   0   0]\n",
      " ...\n",
      " [105 152 100 ...   0   0   0]\n",
      " [145 757  18 ...   0   0   0]\n",
      " [134  10 247 ...   0   0   0]]\n",
      "\n",
      "Padded training sequences shape: (32000, 2246)\n",
      "\n",
      "Padded Training sequences data type: <class 'numpy.ndarray'>\n",
      "\n",
      "--- Training Label ---\n",
      "\n",
      "One example of the training label text:\n",
      " 1\n",
      "\n",
      "Training Label type: <class 'numpy.ndarray'>\n",
      "\n",
      "Training Label shape: (32000,)\n",
      "\n",
      "--- Testing Data ---\n",
      "\n",
      "Padded testing sequences:\n",
      " [[144   8   1 ...   0   0   0]\n",
      " [111   1   5 ...   0   0   0]\n",
      " [ 11  17   7 ...   0   0   0]\n",
      " ...\n",
      " [ 46  23 151 ...   0   0   0]\n",
      " [ 10  39 406 ...   0   0   0]\n",
      " [144  22 250 ...   0   0   0]]\n",
      "\n",
      "Padded testing sequences shape: (8000, 2466)\n",
      "\n",
      "Padded testing sequences data type: <class 'numpy.ndarray'>\n"
     ]
    }
   ],
   "source": [
    "# Check the results of our work\n",
    "print(\"\\n--- Training Data ---\")\n",
    "print(\"\\nOne example of the training data text:\\n\", data_train_text[45])\n",
    "# print(\"\\nTraining sequences data:\\n\", data_train_sequences)\n",
    "print(\"\\nPadded training sequences:\\n\", data_train_padded)\n",
    "print(\"\\nPadded training sequences shape:\", data_train_padded.shape)\n",
    "print(\"\\nPadded Training sequences data type:\", type(data_train_padded))\n",
    "print(\"\\n--- Training Label ---\")\n",
    "print(\"\\nOne example of the training label text:\\n\", data_train_label[45])\n",
    "print(\"\\nTraining Label type:\", type(data_train_label))\n",
    "print(\"\\nTraining Label shape:\", data_train_label.shape)\n",
    "print(\"\\n--- Testing Data ---\")\n",
    "print(\"\\nPadded testing sequences:\\n\", data_test_padded)\n",
    "print(\"\\nPadded testing sequences shape:\", data_test_padded.shape)\n",
    "print(\"\\nPadded testing sequences data type:\", type(data_test_padded))\n"
   ]
  },
  {
   "cell_type": "markdown",
   "id": "42352f44-b613-43ea-b52e-7dd7f64ee466",
   "metadata": {},
   "source": [
    "### 2.6. Sentiment Classification using Plain Vanilla RNN model\n",
    "\n",
    "A SimpleRNN model is a particular kind of Recurrent Neural Network (RNN) that is specifically built to handle sequential data by retaining its internal state as a form of memory for prior inputs. The term \"simple\" describes this sort of RNN since it lacks the intricate mechanics present in more advanced RNNs such as LSTMs or GRUs.\n",
    "\n",
    "SimpleRNNs can be used for predicting future values in a time series based on past observations. They can also be used for tasks like sentiment analysis, where the sequence of words in a sentence needs to be processed to determine the sentiment.\n",
    "\n",
    "<img src=\"https://github.com/matakshay/IMDB_Sentiment_Analysis/blob/master/RNN.png?raw=true\" alt=\"LSTM\" style=\"width: 400px;\">\n",
    "Fig. Diagram of a Recurrent Neural Network"
   ]
  },
  {
   "cell_type": "code",
   "execution_count": 72,
   "id": "c81124bb-6ae0-4c23-a151-551c9f97b76d",
   "metadata": {},
   "outputs": [
    {
     "data": {
      "text/html": [
       "<pre style=\"white-space:pre;overflow-x:auto;line-height:normal;font-family:Menlo,'DejaVu Sans Mono',consolas,'Courier New',monospace\"><span style=\"font-weight: bold\">Model: \"sequential_18\"</span>\n",
       "</pre>\n"
      ],
      "text/plain": [
       "\u001b[1mModel: \"sequential_18\"\u001b[0m\n"
      ]
     },
     "metadata": {},
     "output_type": "display_data"
    },
    {
     "data": {
      "text/html": [
       "<pre style=\"white-space:pre;overflow-x:auto;line-height:normal;font-family:Menlo,'DejaVu Sans Mono',consolas,'Courier New',monospace\">┏━━━━━━━━━━━━━━━━━━━━━━━━━━━━━━━━━━━━━━┳━━━━━━━━━━━━━━━━━━━━━━━━━━━━━┳━━━━━━━━━━━━━━━━━┓\n",
       "┃<span style=\"font-weight: bold\"> Layer (type)                         </span>┃<span style=\"font-weight: bold\"> Output Shape                </span>┃<span style=\"font-weight: bold\">         Param # </span>┃\n",
       "┡━━━━━━━━━━━━━━━━━━━━━━━━━━━━━━━━━━━━━━╇━━━━━━━━━━━━━━━━━━━━━━━━━━━━━╇━━━━━━━━━━━━━━━━━┩\n",
       "│ embedding_18 (<span style=\"color: #0087ff; text-decoration-color: #0087ff\">Embedding</span>)             │ (<span style=\"color: #00d7ff; text-decoration-color: #00d7ff\">None</span>, <span style=\"color: #00af00; text-decoration-color: #00af00\">2246</span>, <span style=\"color: #00af00; text-decoration-color: #00af00\">32</span>)            │         <span style=\"color: #00af00; text-decoration-color: #00af00\">320,000</span> │\n",
       "├──────────────────────────────────────┼─────────────────────────────┼─────────────────┤\n",
       "│ simple_rnn_8 (<span style=\"color: #0087ff; text-decoration-color: #0087ff\">SimpleRNN</span>)             │ (<span style=\"color: #00d7ff; text-decoration-color: #00d7ff\">None</span>, <span style=\"color: #00af00; text-decoration-color: #00af00\">32</span>)                  │           <span style=\"color: #00af00; text-decoration-color: #00af00\">2,080</span> │\n",
       "├──────────────────────────────────────┼─────────────────────────────┼─────────────────┤\n",
       "│ dense_17 (<span style=\"color: #0087ff; text-decoration-color: #0087ff\">Dense</span>)                     │ (<span style=\"color: #00d7ff; text-decoration-color: #00d7ff\">None</span>, <span style=\"color: #00af00; text-decoration-color: #00af00\">1</span>)                   │              <span style=\"color: #00af00; text-decoration-color: #00af00\">33</span> │\n",
       "└──────────────────────────────────────┴─────────────────────────────┴─────────────────┘\n",
       "</pre>\n"
      ],
      "text/plain": [
       "┏━━━━━━━━━━━━━━━━━━━━━━━━━━━━━━━━━━━━━━┳━━━━━━━━━━━━━━━━━━━━━━━━━━━━━┳━━━━━━━━━━━━━━━━━┓\n",
       "┃\u001b[1m \u001b[0m\u001b[1mLayer (type)                        \u001b[0m\u001b[1m \u001b[0m┃\u001b[1m \u001b[0m\u001b[1mOutput Shape               \u001b[0m\u001b[1m \u001b[0m┃\u001b[1m \u001b[0m\u001b[1m        Param #\u001b[0m\u001b[1m \u001b[0m┃\n",
       "┡━━━━━━━━━━━━━━━━━━━━━━━━━━━━━━━━━━━━━━╇━━━━━━━━━━━━━━━━━━━━━━━━━━━━━╇━━━━━━━━━━━━━━━━━┩\n",
       "│ embedding_18 (\u001b[38;5;33mEmbedding\u001b[0m)             │ (\u001b[38;5;45mNone\u001b[0m, \u001b[38;5;34m2246\u001b[0m, \u001b[38;5;34m32\u001b[0m)            │         \u001b[38;5;34m320,000\u001b[0m │\n",
       "├──────────────────────────────────────┼─────────────────────────────┼─────────────────┤\n",
       "│ simple_rnn_8 (\u001b[38;5;33mSimpleRNN\u001b[0m)             │ (\u001b[38;5;45mNone\u001b[0m, \u001b[38;5;34m32\u001b[0m)                  │           \u001b[38;5;34m2,080\u001b[0m │\n",
       "├──────────────────────────────────────┼─────────────────────────────┼─────────────────┤\n",
       "│ dense_17 (\u001b[38;5;33mDense\u001b[0m)                     │ (\u001b[38;5;45mNone\u001b[0m, \u001b[38;5;34m1\u001b[0m)                   │              \u001b[38;5;34m33\u001b[0m │\n",
       "└──────────────────────────────────────┴─────────────────────────────┴─────────────────┘\n"
      ]
     },
     "metadata": {},
     "output_type": "display_data"
    },
    {
     "data": {
      "text/html": [
       "<pre style=\"white-space:pre;overflow-x:auto;line-height:normal;font-family:Menlo,'DejaVu Sans Mono',consolas,'Courier New',monospace\"><span style=\"font-weight: bold\"> Total params: </span><span style=\"color: #00af00; text-decoration-color: #00af00\">322,113</span> (1.23 MB)\n",
       "</pre>\n"
      ],
      "text/plain": [
       "\u001b[1m Total params: \u001b[0m\u001b[38;5;34m322,113\u001b[0m (1.23 MB)\n"
      ]
     },
     "metadata": {},
     "output_type": "display_data"
    },
    {
     "data": {
      "text/html": [
       "<pre style=\"white-space:pre;overflow-x:auto;line-height:normal;font-family:Menlo,'DejaVu Sans Mono',consolas,'Courier New',monospace\"><span style=\"font-weight: bold\"> Trainable params: </span><span style=\"color: #00af00; text-decoration-color: #00af00\">322,113</span> (1.23 MB)\n",
       "</pre>\n"
      ],
      "text/plain": [
       "\u001b[1m Trainable params: \u001b[0m\u001b[38;5;34m322,113\u001b[0m (1.23 MB)\n"
      ]
     },
     "metadata": {},
     "output_type": "display_data"
    },
    {
     "data": {
      "text/html": [
       "<pre style=\"white-space:pre;overflow-x:auto;line-height:normal;font-family:Menlo,'DejaVu Sans Mono',consolas,'Courier New',monospace\"><span style=\"font-weight: bold\"> Non-trainable params: </span><span style=\"color: #00af00; text-decoration-color: #00af00\">0</span> (0.00 B)\n",
       "</pre>\n"
      ],
      "text/plain": [
       "\u001b[1m Non-trainable params: \u001b[0m\u001b[38;5;34m0\u001b[0m (0.00 B)\n"
      ]
     },
     "metadata": {},
     "output_type": "display_data"
    },
    {
     "name": "stdout",
     "output_type": "stream",
     "text": [
      "None\n",
      "ok\n"
     ]
    }
   ],
   "source": [
    "# Building the Plain Vanilla RNN model\n",
    "\n",
    "# Define parameters\n",
    "n_timesteps = data_train_padded.shape[0] # number of samples \n",
    "n_features = data_train_padded.shape[1]  # length of our input sequences after preprocessing (padding)\n",
    "n_outputs = data_train_label.shape[0]\n",
    "vocab_size = 10000\n",
    "embd_len = 32\n",
    "\n",
    "# Define the models\n",
    "vanillaRNN = Sequential()\n",
    "vanillaRNN.add(Embedding(input_dim=vocab_size, \n",
    "                         output_dim=embd_len, \n",
    "                         input_shape=(n_features,)))\n",
    "vanillaRNN.add(SimpleRNN(32, input_shape=(n_features,), \n",
    "                         return_sequences=False))\n",
    "vanillaRNN.add(Dense(1, activation ='sigmoid'))\n",
    "\n",
    "# Compile the model\n",
    "vanillaRNN.compile(optimizer='adam', loss='binary_crossentropy', metrics=['accuracy'])\n",
    "\n",
    "# Model summary\n",
    "print(vanillaRNN.summary())\n",
    "\n",
    "# Check\n",
    "print(\"ok\")"
   ]
  },
  {
   "cell_type": "markdown",
   "id": "6df2f86f-ae5b-4527-865f-f76c88da5f78",
   "metadata": {},
   "source": [
    "The model is trained on a subset of the IMDB dataset, using binary cross-entropy as the loss function and accuracy as the evaluation metric."
   ]
  },
  {
   "cell_type": "code",
   "execution_count": 89,
   "id": "5af0554c-4d7f-4731-9e9b-1c3c8391344b",
   "metadata": {
    "scrolled": true
   },
   "outputs": [
    {
     "name": "stdout",
     "output_type": "stream",
     "text": [
      "2024-04-05 15:03:51.385863\n",
      "Epoch 1/10\n",
      "\u001b[1m1000/1000\u001b[0m \u001b[32m━━━━━━━━━━━━━━━━━━━━\u001b[0m\u001b[37m\u001b[0m \u001b[1m400s\u001b[0m 400ms/step - accuracy: 0.5023 - loss: 0.6938\n",
      "Epoch 2/10\n",
      "\u001b[1m1000/1000\u001b[0m \u001b[32m━━━━━━━━━━━━━━━━━━━━\u001b[0m\u001b[37m\u001b[0m \u001b[1m412s\u001b[0m 412ms/step - accuracy: 0.4994 - loss: 0.6938\n",
      "Epoch 3/10\n",
      "\u001b[1m1000/1000\u001b[0m \u001b[32m━━━━━━━━━━━━━━━━━━━━\u001b[0m\u001b[37m\u001b[0m \u001b[1m397s\u001b[0m 397ms/step - accuracy: 0.5027 - loss: 0.6937\n",
      "Epoch 4/10\n",
      "\u001b[1m1000/1000\u001b[0m \u001b[32m━━━━━━━━━━━━━━━━━━━━\u001b[0m\u001b[37m\u001b[0m \u001b[1m400s\u001b[0m 400ms/step - accuracy: 0.4979 - loss: 0.6938\n",
      "Epoch 5/10\n",
      "\u001b[1m1000/1000\u001b[0m \u001b[32m━━━━━━━━━━━━━━━━━━━━\u001b[0m\u001b[37m\u001b[0m \u001b[1m435s\u001b[0m 435ms/step - accuracy: 0.4966 - loss: 0.6936\n",
      "Epoch 6/10\n",
      "\u001b[1m1000/1000\u001b[0m \u001b[32m━━━━━━━━━━━━━━━━━━━━\u001b[0m\u001b[37m\u001b[0m \u001b[1m421s\u001b[0m 420ms/step - accuracy: 0.5005 - loss: 0.6935\n",
      "Epoch 7/10\n",
      "\u001b[1m1000/1000\u001b[0m \u001b[32m━━━━━━━━━━━━━━━━━━━━\u001b[0m\u001b[37m\u001b[0m \u001b[1m426s\u001b[0m 426ms/step - accuracy: 0.5022 - loss: 0.6936\n",
      "Epoch 8/10\n",
      "\u001b[1m1000/1000\u001b[0m \u001b[32m━━━━━━━━━━━━━━━━━━━━\u001b[0m\u001b[37m\u001b[0m \u001b[1m414s\u001b[0m 414ms/step - accuracy: 0.4916 - loss: 0.6938\n",
      "Epoch 9/10\n",
      "\u001b[1m1000/1000\u001b[0m \u001b[32m━━━━━━━━━━━━━━━━━━━━\u001b[0m\u001b[37m\u001b[0m \u001b[1m408s\u001b[0m 408ms/step - accuracy: 0.4995 - loss: 0.6934\n",
      "Epoch 10/10\n",
      "\u001b[1m1000/1000\u001b[0m \u001b[32m━━━━━━━━━━━━━━━━━━━━\u001b[0m\u001b[37m\u001b[0m \u001b[1m384s\u001b[0m 384ms/step - accuracy: 0.4939 - loss: 0.6935\n",
      "2024-04-05 16:12:09.163117\n"
     ]
    }
   ],
   "source": [
    "# Train the Plain Vanilla RNN model\n",
    "print(datetime.now())\n",
    "history = vanillaRNN.fit(data_train_padded, data_train_label, epochs=10, batch_size=32)\n",
    "print(datetime.now())"
   ]
  },
  {
   "cell_type": "markdown",
   "id": "241da043-4814-4c65-be14-744c24567cbf",
   "metadata": {},
   "source": [
    "### 2.7. The Performance of Plain Vanilla RNN model\n",
    "\n",
    "The Plain Vanilla RNN (SimpleRNN) model achieved an accuracy of $50.05 \\%$ on the IMDB movie reviews dataset. The lowest loss recorded is $69.34 \\%$\n",
    "\n",
    "The vanishing gradient problem is a common issue encountered by SimpleRNNs, resulting in reduced efficacy in capturing long-term dependencies inside sequences.\n",
    "\n",
    "**Accuracy**\n",
    "\n",
    "RNNs are generally most likely to be outperformed by LSTMs and GRUs in tasks that require understanding longer contexts, such as sentiment analysis of movie reviews. \n",
    "\n",
    "**Training Time**\n",
    "\n",
    "RNNs can be trained relatively quickly due to their more straightforward structure, but they may require more epochs to reach the same level of accuracy as LSTMs or GRUs.\n",
    "\n",
    "**Model Size**\n",
    "\n",
    "RNNs have fewer parameters than LSTMs and GRUs, leading to a smaller model size. However, their performance on complex tasks like sentiment analysis may be limited."
   ]
  },
  {
   "cell_type": "code",
   "execution_count": 114,
   "id": "3dd539aa-0add-40c1-82ba-7e4d912aa0fe",
   "metadata": {},
   "outputs": [
    {
     "name": "stdout",
     "output_type": "stream",
     "text": [
      "Evaluate on test data\n",
      "\u001b[1m63/63\u001b[0m \u001b[32m━━━━━━━━━━━━━━━━━━━━\u001b[0m\u001b[37m\u001b[0m \u001b[1m5s\u001b[0m 81ms/step - accuracy: 0.5003 - loss: 0.6932\n",
      "Test loss, Test accuracy: [0.693122923374176, 0.5040000081062317]\n",
      "\u001b[1m250/250\u001b[0m \u001b[32m━━━━━━━━━━━━━━━━━━━━\u001b[0m\u001b[37m\u001b[0m \u001b[1m13s\u001b[0m 53ms/step\n",
      "[[4031    0]\n",
      " [3969    0]]\n"
     ]
    }
   ],
   "source": [
    "# Evaluate the model on the test data using `evaluate`\n",
    "print(\"Evaluate on test data\")\n",
    "results = vanillaRNN.evaluate(data_test_padded, data_test_label, batch_size=128)\n",
    "print(\"Test loss, Test accuracy:\", results)\n",
    "\n",
    "# Plot confusion matrix\n",
    "from sklearn.metrics import confusion_matrix\n",
    "\n",
    "# Predict the probabilities for the test data\n",
    "probabilities = vanillaRNN.predict(data_test_padded)\n",
    "\n",
    "# Convert probabilities to class labels\n",
    "predictions = np.argmax(probabilities, axis=1)\n",
    "\n",
    "# Compute the confusion matrix using TensorFlow\n",
    "conf_matrix = tf.math.confusion_matrix(data_test_label, predictions)\n",
    "\n",
    "# To print the confusion matrix, you need to run it within a TensorFlow session (for TensorFlow 1.x)\n",
    "# For TensorFlow 2.x, you can directly print it as it executes eagerly\n",
    "print(conf_matrix.numpy())\n",
    "\n",
    "# Assuming conf_matrix is the confusion matrix obtained from TensorFlow\n",
    "conf_matrix_np = conf_matrix.numpy()"
   ]
  },
  {
   "cell_type": "markdown",
   "id": "1962eb07-554a-4576-8913-ca0e84012cdf",
   "metadata": {},
   "source": [
    "In this study, we use a confusion matrix that summarizes the performance of the Plain Vanilla RNN model as below. \n",
    "\n",
    "The confusion matrix displays the number of instances the model produces on the test data.\n",
    "\n",
    "- True positives (TP): occur when the Plain Vanilla RNN model accurately predicts a positive data point.\n",
    "- True negatives (TN): occur when the Plain Vanilla RNN model accurately predicts a negative data point.\n",
    "- False positives (FP): occur when the Plain Vanilla RNN model predicts a positive data point incorrectly.\n",
    "- False negatives (FN): occur when the Plain Vanilla RNN model mispredicts a negative data point."
   ]
  },
  {
   "cell_type": "markdown",
   "id": "c7a29faf-9f93-4f40-a21c-1e4fa918c914",
   "metadata": {},
   "source": [
    "### 2.8. Sentiment Classification using LSTM model\n",
    "\n",
    "LSTM networks are a particular Recurrent Neural Network (RNN) structure employed in deep learning to handle sequential input. They excel at tasks that involve groups of text, such as sentiment analysis of movie reviews. \n",
    "\n",
    "LSTMs, in contrast to basic RNNs, are specifically engineered to circumvent the issue of vanishing gradients, enabling them to capture enduring relationships within textual data effectively.\r\n",
    "LSTMs can process input sequences of varying lengths, which is important for analyzing movie reviews that can vary significantly in length. \n",
    "\n",
    "<img src=\"https://github.com/matakshay/IMDB_Sentiment_Analysis/blob/master/LSTM.png?raw=true\" alt=\"LSTM\" style=\"width: 400px;\"/>\n",
    "\n",
    "LSTMs often use an **embedding layer** at the input, transforming words into dense vectors of fixed size. This captures semantic relationships between words and improves the model's ability to learn from the text data.\n",
    "\n",
    "LSTMs process text data sequentially, one word at a time, maintaining a hidden state that effectively summarizes the information seen so far. This allows the model to make predictions based on the entire context of a sentence or document.\n",
    "\n",
    "The model is shown in the figure below. \n",
    "\n",
    "<img src=\"https://github.com/matakshay/IMDB_Sentiment_Analysis/blob/master/LSTM_model_visual.png?raw=true\" alt=\"LSTM\" style=\"width: 350px;\"/>\n",
    "Diagram of an LSTM Network\n",
    ",\n"
   ]
  },
  {
   "cell_type": "code",
   "execution_count": 108,
   "id": "7f15b0f4-e59e-4af1-b740-97075bbce0e3",
   "metadata": {},
   "outputs": [
    {
     "data": {
      "text/html": [
       "<pre style=\"white-space:pre;overflow-x:auto;line-height:normal;font-family:Menlo,'DejaVu Sans Mono',consolas,'Courier New',monospace\"><span style=\"font-weight: bold\">Model: \"sequential_21\"</span>\n",
       "</pre>\n"
      ],
      "text/plain": [
       "\u001b[1mModel: \"sequential_21\"\u001b[0m\n"
      ]
     },
     "metadata": {},
     "output_type": "display_data"
    },
    {
     "data": {
      "text/html": [
       "<pre style=\"white-space:pre;overflow-x:auto;line-height:normal;font-family:Menlo,'DejaVu Sans Mono',consolas,'Courier New',monospace\">┏━━━━━━━━━━━━━━━━━━━━━━━━━━━━━━━━━━━━━━┳━━━━━━━━━━━━━━━━━━━━━━━━━━━━━┳━━━━━━━━━━━━━━━━━┓\n",
       "┃<span style=\"font-weight: bold\"> Layer (type)                         </span>┃<span style=\"font-weight: bold\"> Output Shape                </span>┃<span style=\"font-weight: bold\">         Param # </span>┃\n",
       "┡━━━━━━━━━━━━━━━━━━━━━━━━━━━━━━━━━━━━━━╇━━━━━━━━━━━━━━━━━━━━━━━━━━━━━╇━━━━━━━━━━━━━━━━━┩\n",
       "│ embedding_21 (<span style=\"color: #0087ff; text-decoration-color: #0087ff\">Embedding</span>)             │ (<span style=\"color: #00d7ff; text-decoration-color: #00d7ff\">None</span>, <span style=\"color: #00af00; text-decoration-color: #00af00\">2246</span>, <span style=\"color: #00af00; text-decoration-color: #00af00\">32</span>)            │         <span style=\"color: #00af00; text-decoration-color: #00af00\">160,000</span> │\n",
       "├──────────────────────────────────────┼─────────────────────────────┼─────────────────┤\n",
       "│ bidirectional (<span style=\"color: #0087ff; text-decoration-color: #0087ff\">Bidirectional</span>)        │ (<span style=\"color: #00d7ff; text-decoration-color: #00d7ff\">None</span>, <span style=\"color: #00af00; text-decoration-color: #00af00\">256</span>)                 │         <span style=\"color: #00af00; text-decoration-color: #00af00\">164,864</span> │\n",
       "├──────────────────────────────────────┼─────────────────────────────┼─────────────────┤\n",
       "│ dense_18 (<span style=\"color: #0087ff; text-decoration-color: #0087ff\">Dense</span>)                     │ (<span style=\"color: #00d7ff; text-decoration-color: #00d7ff\">None</span>, <span style=\"color: #00af00; text-decoration-color: #00af00\">64</span>)                  │          <span style=\"color: #00af00; text-decoration-color: #00af00\">16,448</span> │\n",
       "├──────────────────────────────────────┼─────────────────────────────┼─────────────────┤\n",
       "│ dropout (<span style=\"color: #0087ff; text-decoration-color: #0087ff\">Dropout</span>)                    │ (<span style=\"color: #00d7ff; text-decoration-color: #00d7ff\">None</span>, <span style=\"color: #00af00; text-decoration-color: #00af00\">64</span>)                  │               <span style=\"color: #00af00; text-decoration-color: #00af00\">0</span> │\n",
       "├──────────────────────────────────────┼─────────────────────────────┼─────────────────┤\n",
       "│ dense_19 (<span style=\"color: #0087ff; text-decoration-color: #0087ff\">Dense</span>)                     │ (<span style=\"color: #00d7ff; text-decoration-color: #00d7ff\">None</span>, <span style=\"color: #00af00; text-decoration-color: #00af00\">32</span>)                  │           <span style=\"color: #00af00; text-decoration-color: #00af00\">2,080</span> │\n",
       "├──────────────────────────────────────┼─────────────────────────────┼─────────────────┤\n",
       "│ dense_20 (<span style=\"color: #0087ff; text-decoration-color: #0087ff\">Dense</span>)                     │ (<span style=\"color: #00d7ff; text-decoration-color: #00d7ff\">None</span>, <span style=\"color: #00af00; text-decoration-color: #00af00\">1</span>)                   │              <span style=\"color: #00af00; text-decoration-color: #00af00\">33</span> │\n",
       "└──────────────────────────────────────┴─────────────────────────────┴─────────────────┘\n",
       "</pre>\n"
      ],
      "text/plain": [
       "┏━━━━━━━━━━━━━━━━━━━━━━━━━━━━━━━━━━━━━━┳━━━━━━━━━━━━━━━━━━━━━━━━━━━━━┳━━━━━━━━━━━━━━━━━┓\n",
       "┃\u001b[1m \u001b[0m\u001b[1mLayer (type)                        \u001b[0m\u001b[1m \u001b[0m┃\u001b[1m \u001b[0m\u001b[1mOutput Shape               \u001b[0m\u001b[1m \u001b[0m┃\u001b[1m \u001b[0m\u001b[1m        Param #\u001b[0m\u001b[1m \u001b[0m┃\n",
       "┡━━━━━━━━━━━━━━━━━━━━━━━━━━━━━━━━━━━━━━╇━━━━━━━━━━━━━━━━━━━━━━━━━━━━━╇━━━━━━━━━━━━━━━━━┩\n",
       "│ embedding_21 (\u001b[38;5;33mEmbedding\u001b[0m)             │ (\u001b[38;5;45mNone\u001b[0m, \u001b[38;5;34m2246\u001b[0m, \u001b[38;5;34m32\u001b[0m)            │         \u001b[38;5;34m160,000\u001b[0m │\n",
       "├──────────────────────────────────────┼─────────────────────────────┼─────────────────┤\n",
       "│ bidirectional (\u001b[38;5;33mBidirectional\u001b[0m)        │ (\u001b[38;5;45mNone\u001b[0m, \u001b[38;5;34m256\u001b[0m)                 │         \u001b[38;5;34m164,864\u001b[0m │\n",
       "├──────────────────────────────────────┼─────────────────────────────┼─────────────────┤\n",
       "│ dense_18 (\u001b[38;5;33mDense\u001b[0m)                     │ (\u001b[38;5;45mNone\u001b[0m, \u001b[38;5;34m64\u001b[0m)                  │          \u001b[38;5;34m16,448\u001b[0m │\n",
       "├──────────────────────────────────────┼─────────────────────────────┼─────────────────┤\n",
       "│ dropout (\u001b[38;5;33mDropout\u001b[0m)                    │ (\u001b[38;5;45mNone\u001b[0m, \u001b[38;5;34m64\u001b[0m)                  │               \u001b[38;5;34m0\u001b[0m │\n",
       "├──────────────────────────────────────┼─────────────────────────────┼─────────────────┤\n",
       "│ dense_19 (\u001b[38;5;33mDense\u001b[0m)                     │ (\u001b[38;5;45mNone\u001b[0m, \u001b[38;5;34m32\u001b[0m)                  │           \u001b[38;5;34m2,080\u001b[0m │\n",
       "├──────────────────────────────────────┼─────────────────────────────┼─────────────────┤\n",
       "│ dense_20 (\u001b[38;5;33mDense\u001b[0m)                     │ (\u001b[38;5;45mNone\u001b[0m, \u001b[38;5;34m1\u001b[0m)                   │              \u001b[38;5;34m33\u001b[0m │\n",
       "└──────────────────────────────────────┴─────────────────────────────┴─────────────────┘\n"
      ]
     },
     "metadata": {},
     "output_type": "display_data"
    },
    {
     "data": {
      "text/html": [
       "<pre style=\"white-space:pre;overflow-x:auto;line-height:normal;font-family:Menlo,'DejaVu Sans Mono',consolas,'Courier New',monospace\"><span style=\"font-weight: bold\"> Total params: </span><span style=\"color: #00af00; text-decoration-color: #00af00\">343,425</span> (1.31 MB)\n",
       "</pre>\n"
      ],
      "text/plain": [
       "\u001b[1m Total params: \u001b[0m\u001b[38;5;34m343,425\u001b[0m (1.31 MB)\n"
      ]
     },
     "metadata": {},
     "output_type": "display_data"
    },
    {
     "data": {
      "text/html": [
       "<pre style=\"white-space:pre;overflow-x:auto;line-height:normal;font-family:Menlo,'DejaVu Sans Mono',consolas,'Courier New',monospace\"><span style=\"font-weight: bold\"> Trainable params: </span><span style=\"color: #00af00; text-decoration-color: #00af00\">343,425</span> (1.31 MB)\n",
       "</pre>\n"
      ],
      "text/plain": [
       "\u001b[1m Trainable params: \u001b[0m\u001b[38;5;34m343,425\u001b[0m (1.31 MB)\n"
      ]
     },
     "metadata": {},
     "output_type": "display_data"
    },
    {
     "data": {
      "text/html": [
       "<pre style=\"white-space:pre;overflow-x:auto;line-height:normal;font-family:Menlo,'DejaVu Sans Mono',consolas,'Courier New',monospace\"><span style=\"font-weight: bold\"> Non-trainable params: </span><span style=\"color: #00af00; text-decoration-color: #00af00\">0</span> (0.00 B)\n",
       "</pre>\n"
      ],
      "text/plain": [
       "\u001b[1m Non-trainable params: \u001b[0m\u001b[38;5;34m0\u001b[0m (0.00 B)\n"
      ]
     },
     "metadata": {},
     "output_type": "display_data"
    },
    {
     "name": "stdout",
     "output_type": "stream",
     "text": [
      "None\n",
      "ok\n"
     ]
    }
   ],
   "source": [
    "# Building the LSTM model\n",
    "\n",
    "# Define parameters\n",
    "n_timesteps = data_train_padded.shape[0] # number of samples \n",
    "n_features = data_train_padded.shape[1]  # length of our input sequences after preprocessing (padding)\n",
    "n_outputs = data_train_label.shape[0]\n",
    "vocab_size = 5000\n",
    "embd_len = 32\n",
    "\n",
    "# Define the models\n",
    "thisLSTM = Sequential()\n",
    "thisLSTM.add(Embedding(input_dim=vocab_size, \n",
    "                       output_dim = 32, \n",
    "                       input_shape=(n_features,)))\n",
    "thisLSTM.add(Bidirectional(LSTM(units=128,\n",
    "                                activation='tanh',\n",
    "                                recurrent_activation='sigmoid',\n",
    "                                dropout=0.0,\n",
    "                                recurrent_dropout=0.0,\n",
    "                                return_sequences = False)))\n",
    "thisLSTM.add(Dense(units=64,\n",
    "                   activation ='relu'))\n",
    "thisLSTM.add(Dropout(0.3))\n",
    "thisLSTM.add(Dense(units=32,\n",
    "                   activation='relu'))\n",
    "thisLSTM.add(Dense(units=1,\n",
    "                   activation='sigmoid'))\n",
    "\n",
    "# Compile the model\n",
    "thisLSTM.compile(optimizer='adam', loss='binary_crossentropy', metrics=['accuracy'])\n",
    "\n",
    "# Model summary\n",
    "print(thisLSTM.summary())\n",
    "\n",
    "# Check\n",
    "print(\"ok\")"
   ]
  },
  {
   "cell_type": "markdown",
   "id": "0ac623d6-b760-45c7-b43d-47daece279f1",
   "metadata": {},
   "source": [
    "The model is trained on a subset of the IMDB dataset, using binary cross-entropy as the loss function and accuracy as the evaluation metric."
   ]
  },
  {
   "cell_type": "code",
   "execution_count": 109,
   "id": "ae92d648-aaed-4beb-961c-6deb21317546",
   "metadata": {},
   "outputs": [
    {
     "name": "stdout",
     "output_type": "stream",
     "text": [
      "Time = 2024-04-05 16:28:53.237997\n",
      "Epoch 1/10\n",
      "\u001b[1m500/500\u001b[0m \u001b[32m━━━━━━━━━━━━━━━━━━━━\u001b[0m\u001b[37m\u001b[0m \u001b[1m8203s\u001b[0m 16s/step - accuracy: 0.5114 - loss: 0.6948 - val_accuracy: 0.5039 - val_loss: 0.6930\n",
      "Epoch 2/10\n",
      "\u001b[1m500/500\u001b[0m \u001b[32m━━━━━━━━━━━━━━━━━━━━\u001b[0m\u001b[37m\u001b[0m \u001b[1m8290s\u001b[0m 17s/step - accuracy: 0.5161 - loss: 0.6923 - val_accuracy: 0.5345 - val_loss: 0.6906\n",
      "Epoch 3/10\n",
      "\u001b[1m500/500\u001b[0m \u001b[32m━━━━━━━━━━━━━━━━━━━━\u001b[0m\u001b[37m\u001b[0m \u001b[1m0s\u001b[0m 17s/step - accuracy: 0.6309 - loss: 0.6387 "
     ]
    },
    {
     "ename": "KeyboardInterrupt",
     "evalue": "",
     "output_type": "error",
     "traceback": [
      "\u001b[1;31m---------------------------------------------------------------------------\u001b[0m",
      "\u001b[1;31mKeyboardInterrupt\u001b[0m                         Traceback (most recent call last)",
      "Cell \u001b[1;32mIn[109], line 3\u001b[0m\n\u001b[0;32m      1\u001b[0m \u001b[38;5;66;03m# Train the LSTM model\u001b[39;00m\n\u001b[0;32m      2\u001b[0m \u001b[38;5;28mprint\u001b[39m(\u001b[38;5;124m\"\u001b[39m\u001b[38;5;124mTime =\u001b[39m\u001b[38;5;124m\"\u001b[39m, datetime\u001b[38;5;241m.\u001b[39mnow())\n\u001b[1;32m----> 3\u001b[0m history \u001b[38;5;241m=\u001b[39m thisLSTM\u001b[38;5;241m.\u001b[39mfit(data_train_padded, data_train_label, epochs\u001b[38;5;241m=\u001b[39m\u001b[38;5;241m10\u001b[39m, batch_size\u001b[38;5;241m=\u001b[39m\u001b[38;5;241m64\u001b[39m, validation_data\u001b[38;5;241m=\u001b[39m(data_test_padded, data_test_label))\n\u001b[0;32m      4\u001b[0m \u001b[38;5;28mprint\u001b[39m(\u001b[38;5;124m\"\u001b[39m\u001b[38;5;124mTime =\u001b[39m\u001b[38;5;124m\"\u001b[39m, datetime\u001b[38;5;241m.\u001b[39mnow())\n",
      "File \u001b[1;32m~\\AppData\\Local\\anaconda3\\envs\\pytorchbook\\Lib\\site-packages\\keras\\src\\utils\\traceback_utils.py:117\u001b[0m, in \u001b[0;36mfilter_traceback.<locals>.error_handler\u001b[1;34m(*args, **kwargs)\u001b[0m\n\u001b[0;32m    115\u001b[0m filtered_tb \u001b[38;5;241m=\u001b[39m \u001b[38;5;28;01mNone\u001b[39;00m\n\u001b[0;32m    116\u001b[0m \u001b[38;5;28;01mtry\u001b[39;00m:\n\u001b[1;32m--> 117\u001b[0m     \u001b[38;5;28;01mreturn\u001b[39;00m fn(\u001b[38;5;241m*\u001b[39margs, \u001b[38;5;241m*\u001b[39m\u001b[38;5;241m*\u001b[39mkwargs)\n\u001b[0;32m    118\u001b[0m \u001b[38;5;28;01mexcept\u001b[39;00m \u001b[38;5;167;01mException\u001b[39;00m \u001b[38;5;28;01mas\u001b[39;00m e:\n\u001b[0;32m    119\u001b[0m     filtered_tb \u001b[38;5;241m=\u001b[39m _process_traceback_frames(e\u001b[38;5;241m.\u001b[39m__traceback__)\n",
      "File \u001b[1;32m~\\AppData\\Local\\anaconda3\\envs\\pytorchbook\\Lib\\site-packages\\keras\\src\\backend\\tensorflow\\trainer.py:351\u001b[0m, in \u001b[0;36mTensorFlowTrainer.fit\u001b[1;34m(self, x, y, batch_size, epochs, verbose, callbacks, validation_split, validation_data, shuffle, class_weight, sample_weight, initial_epoch, steps_per_epoch, validation_steps, validation_batch_size, validation_freq)\u001b[0m\n\u001b[0;32m    340\u001b[0m \u001b[38;5;28;01mif\u001b[39;00m \u001b[38;5;28mgetattr\u001b[39m(\u001b[38;5;28mself\u001b[39m, \u001b[38;5;124m\"\u001b[39m\u001b[38;5;124m_eval_epoch_iterator\u001b[39m\u001b[38;5;124m\"\u001b[39m, \u001b[38;5;28;01mNone\u001b[39;00m) \u001b[38;5;129;01mis\u001b[39;00m \u001b[38;5;28;01mNone\u001b[39;00m:\n\u001b[0;32m    341\u001b[0m     \u001b[38;5;28mself\u001b[39m\u001b[38;5;241m.\u001b[39m_eval_epoch_iterator \u001b[38;5;241m=\u001b[39m TFEpochIterator(\n\u001b[0;32m    342\u001b[0m         x\u001b[38;5;241m=\u001b[39mval_x,\n\u001b[0;32m    343\u001b[0m         y\u001b[38;5;241m=\u001b[39mval_y,\n\u001b[1;32m   (...)\u001b[0m\n\u001b[0;32m    349\u001b[0m         shuffle\u001b[38;5;241m=\u001b[39m\u001b[38;5;28;01mFalse\u001b[39;00m,\n\u001b[0;32m    350\u001b[0m     )\n\u001b[1;32m--> 351\u001b[0m val_logs \u001b[38;5;241m=\u001b[39m \u001b[38;5;28mself\u001b[39m\u001b[38;5;241m.\u001b[39mevaluate(\n\u001b[0;32m    352\u001b[0m     x\u001b[38;5;241m=\u001b[39mval_x,\n\u001b[0;32m    353\u001b[0m     y\u001b[38;5;241m=\u001b[39mval_y,\n\u001b[0;32m    354\u001b[0m     sample_weight\u001b[38;5;241m=\u001b[39mval_sample_weight,\n\u001b[0;32m    355\u001b[0m     batch_size\u001b[38;5;241m=\u001b[39mvalidation_batch_size \u001b[38;5;129;01mor\u001b[39;00m batch_size,\n\u001b[0;32m    356\u001b[0m     steps\u001b[38;5;241m=\u001b[39mvalidation_steps,\n\u001b[0;32m    357\u001b[0m     callbacks\u001b[38;5;241m=\u001b[39mcallbacks,\n\u001b[0;32m    358\u001b[0m     return_dict\u001b[38;5;241m=\u001b[39m\u001b[38;5;28;01mTrue\u001b[39;00m,\n\u001b[0;32m    359\u001b[0m     _use_cached_eval_dataset\u001b[38;5;241m=\u001b[39m\u001b[38;5;28;01mTrue\u001b[39;00m,\n\u001b[0;32m    360\u001b[0m )\n\u001b[0;32m    361\u001b[0m val_logs \u001b[38;5;241m=\u001b[39m {\n\u001b[0;32m    362\u001b[0m     \u001b[38;5;124m\"\u001b[39m\u001b[38;5;124mval_\u001b[39m\u001b[38;5;124m\"\u001b[39m \u001b[38;5;241m+\u001b[39m name: val \u001b[38;5;28;01mfor\u001b[39;00m name, val \u001b[38;5;129;01min\u001b[39;00m val_logs\u001b[38;5;241m.\u001b[39mitems()\n\u001b[0;32m    363\u001b[0m }\n\u001b[0;32m    364\u001b[0m epoch_logs\u001b[38;5;241m.\u001b[39mupdate(val_logs)\n",
      "File \u001b[1;32m~\\AppData\\Local\\anaconda3\\envs\\pytorchbook\\Lib\\site-packages\\keras\\src\\utils\\traceback_utils.py:117\u001b[0m, in \u001b[0;36mfilter_traceback.<locals>.error_handler\u001b[1;34m(*args, **kwargs)\u001b[0m\n\u001b[0;32m    115\u001b[0m filtered_tb \u001b[38;5;241m=\u001b[39m \u001b[38;5;28;01mNone\u001b[39;00m\n\u001b[0;32m    116\u001b[0m \u001b[38;5;28;01mtry\u001b[39;00m:\n\u001b[1;32m--> 117\u001b[0m     \u001b[38;5;28;01mreturn\u001b[39;00m fn(\u001b[38;5;241m*\u001b[39margs, \u001b[38;5;241m*\u001b[39m\u001b[38;5;241m*\u001b[39mkwargs)\n\u001b[0;32m    118\u001b[0m \u001b[38;5;28;01mexcept\u001b[39;00m \u001b[38;5;167;01mException\u001b[39;00m \u001b[38;5;28;01mas\u001b[39;00m e:\n\u001b[0;32m    119\u001b[0m     filtered_tb \u001b[38;5;241m=\u001b[39m _process_traceback_frames(e\u001b[38;5;241m.\u001b[39m__traceback__)\n",
      "File \u001b[1;32m~\\AppData\\Local\\anaconda3\\envs\\pytorchbook\\Lib\\site-packages\\keras\\src\\backend\\tensorflow\\trainer.py:437\u001b[0m, in \u001b[0;36mTensorFlowTrainer.evaluate\u001b[1;34m(self, x, y, batch_size, verbose, sample_weight, steps, callbacks, return_dict, **kwargs)\u001b[0m\n\u001b[0;32m    435\u001b[0m \u001b[38;5;28;01mfor\u001b[39;00m step, iterator \u001b[38;5;129;01min\u001b[39;00m epoch_iterator\u001b[38;5;241m.\u001b[39menumerate_epoch():\n\u001b[0;32m    436\u001b[0m     callbacks\u001b[38;5;241m.\u001b[39mon_test_batch_begin(step)\n\u001b[1;32m--> 437\u001b[0m     logs \u001b[38;5;241m=\u001b[39m \u001b[38;5;28mself\u001b[39m\u001b[38;5;241m.\u001b[39mtest_function(iterator)\n\u001b[0;32m    438\u001b[0m     callbacks\u001b[38;5;241m.\u001b[39mon_test_batch_end(step, \u001b[38;5;28mself\u001b[39m\u001b[38;5;241m.\u001b[39m_pythonify_logs(logs))\n\u001b[0;32m    439\u001b[0m     \u001b[38;5;28;01mif\u001b[39;00m \u001b[38;5;28mself\u001b[39m\u001b[38;5;241m.\u001b[39mstop_evaluating:\n",
      "File \u001b[1;32m~\\AppData\\Local\\anaconda3\\envs\\pytorchbook\\Lib\\site-packages\\tensorflow\\python\\util\\traceback_utils.py:150\u001b[0m, in \u001b[0;36mfilter_traceback.<locals>.error_handler\u001b[1;34m(*args, **kwargs)\u001b[0m\n\u001b[0;32m    148\u001b[0m filtered_tb \u001b[38;5;241m=\u001b[39m \u001b[38;5;28;01mNone\u001b[39;00m\n\u001b[0;32m    149\u001b[0m \u001b[38;5;28;01mtry\u001b[39;00m:\n\u001b[1;32m--> 150\u001b[0m   \u001b[38;5;28;01mreturn\u001b[39;00m fn(\u001b[38;5;241m*\u001b[39margs, \u001b[38;5;241m*\u001b[39m\u001b[38;5;241m*\u001b[39mkwargs)\n\u001b[0;32m    151\u001b[0m \u001b[38;5;28;01mexcept\u001b[39;00m \u001b[38;5;167;01mException\u001b[39;00m \u001b[38;5;28;01mas\u001b[39;00m e:\n\u001b[0;32m    152\u001b[0m   filtered_tb \u001b[38;5;241m=\u001b[39m _process_traceback_frames(e\u001b[38;5;241m.\u001b[39m__traceback__)\n",
      "File \u001b[1;32m~\\AppData\\Local\\anaconda3\\envs\\pytorchbook\\Lib\\site-packages\\tensorflow\\python\\eager\\polymorphic_function\\polymorphic_function.py:833\u001b[0m, in \u001b[0;36mFunction.__call__\u001b[1;34m(self, *args, **kwds)\u001b[0m\n\u001b[0;32m    830\u001b[0m compiler \u001b[38;5;241m=\u001b[39m \u001b[38;5;124m\"\u001b[39m\u001b[38;5;124mxla\u001b[39m\u001b[38;5;124m\"\u001b[39m \u001b[38;5;28;01mif\u001b[39;00m \u001b[38;5;28mself\u001b[39m\u001b[38;5;241m.\u001b[39m_jit_compile \u001b[38;5;28;01melse\u001b[39;00m \u001b[38;5;124m\"\u001b[39m\u001b[38;5;124mnonXla\u001b[39m\u001b[38;5;124m\"\u001b[39m\n\u001b[0;32m    832\u001b[0m \u001b[38;5;28;01mwith\u001b[39;00m OptionalXlaContext(\u001b[38;5;28mself\u001b[39m\u001b[38;5;241m.\u001b[39m_jit_compile):\n\u001b[1;32m--> 833\u001b[0m   result \u001b[38;5;241m=\u001b[39m \u001b[38;5;28mself\u001b[39m\u001b[38;5;241m.\u001b[39m_call(\u001b[38;5;241m*\u001b[39margs, \u001b[38;5;241m*\u001b[39m\u001b[38;5;241m*\u001b[39mkwds)\n\u001b[0;32m    835\u001b[0m new_tracing_count \u001b[38;5;241m=\u001b[39m \u001b[38;5;28mself\u001b[39m\u001b[38;5;241m.\u001b[39mexperimental_get_tracing_count()\n\u001b[0;32m    836\u001b[0m without_tracing \u001b[38;5;241m=\u001b[39m (tracing_count \u001b[38;5;241m==\u001b[39m new_tracing_count)\n",
      "File \u001b[1;32m~\\AppData\\Local\\anaconda3\\envs\\pytorchbook\\Lib\\site-packages\\tensorflow\\python\\eager\\polymorphic_function\\polymorphic_function.py:878\u001b[0m, in \u001b[0;36mFunction._call\u001b[1;34m(self, *args, **kwds)\u001b[0m\n\u001b[0;32m    875\u001b[0m \u001b[38;5;28mself\u001b[39m\u001b[38;5;241m.\u001b[39m_lock\u001b[38;5;241m.\u001b[39mrelease()\n\u001b[0;32m    876\u001b[0m \u001b[38;5;66;03m# In this case we have not created variables on the first call. So we can\u001b[39;00m\n\u001b[0;32m    877\u001b[0m \u001b[38;5;66;03m# run the first trace but we should fail if variables are created.\u001b[39;00m\n\u001b[1;32m--> 878\u001b[0m results \u001b[38;5;241m=\u001b[39m tracing_compilation\u001b[38;5;241m.\u001b[39mcall_function(\n\u001b[0;32m    879\u001b[0m     args, kwds, \u001b[38;5;28mself\u001b[39m\u001b[38;5;241m.\u001b[39m_variable_creation_config\n\u001b[0;32m    880\u001b[0m )\n\u001b[0;32m    881\u001b[0m \u001b[38;5;28;01mif\u001b[39;00m \u001b[38;5;28mself\u001b[39m\u001b[38;5;241m.\u001b[39m_created_variables:\n\u001b[0;32m    882\u001b[0m   \u001b[38;5;28;01mraise\u001b[39;00m \u001b[38;5;167;01mValueError\u001b[39;00m(\u001b[38;5;124m\"\u001b[39m\u001b[38;5;124mCreating variables on a non-first call to a function\u001b[39m\u001b[38;5;124m\"\u001b[39m\n\u001b[0;32m    883\u001b[0m                    \u001b[38;5;124m\"\u001b[39m\u001b[38;5;124m decorated with tf.function.\u001b[39m\u001b[38;5;124m\"\u001b[39m)\n",
      "File \u001b[1;32m~\\AppData\\Local\\anaconda3\\envs\\pytorchbook\\Lib\\site-packages\\tensorflow\\python\\eager\\polymorphic_function\\tracing_compilation.py:139\u001b[0m, in \u001b[0;36mcall_function\u001b[1;34m(args, kwargs, tracing_options)\u001b[0m\n\u001b[0;32m    137\u001b[0m bound_args \u001b[38;5;241m=\u001b[39m function\u001b[38;5;241m.\u001b[39mfunction_type\u001b[38;5;241m.\u001b[39mbind(\u001b[38;5;241m*\u001b[39margs, \u001b[38;5;241m*\u001b[39m\u001b[38;5;241m*\u001b[39mkwargs)\n\u001b[0;32m    138\u001b[0m flat_inputs \u001b[38;5;241m=\u001b[39m function\u001b[38;5;241m.\u001b[39mfunction_type\u001b[38;5;241m.\u001b[39munpack_inputs(bound_args)\n\u001b[1;32m--> 139\u001b[0m \u001b[38;5;28;01mreturn\u001b[39;00m function\u001b[38;5;241m.\u001b[39m_call_flat(  \u001b[38;5;66;03m# pylint: disable=protected-access\u001b[39;00m\n\u001b[0;32m    140\u001b[0m     flat_inputs, captured_inputs\u001b[38;5;241m=\u001b[39mfunction\u001b[38;5;241m.\u001b[39mcaptured_inputs\n\u001b[0;32m    141\u001b[0m )\n",
      "File \u001b[1;32m~\\AppData\\Local\\anaconda3\\envs\\pytorchbook\\Lib\\site-packages\\tensorflow\\python\\eager\\polymorphic_function\\concrete_function.py:1322\u001b[0m, in \u001b[0;36mConcreteFunction._call_flat\u001b[1;34m(self, tensor_inputs, captured_inputs)\u001b[0m\n\u001b[0;32m   1318\u001b[0m possible_gradient_type \u001b[38;5;241m=\u001b[39m gradients_util\u001b[38;5;241m.\u001b[39mPossibleTapeGradientTypes(args)\n\u001b[0;32m   1319\u001b[0m \u001b[38;5;28;01mif\u001b[39;00m (possible_gradient_type \u001b[38;5;241m==\u001b[39m gradients_util\u001b[38;5;241m.\u001b[39mPOSSIBLE_GRADIENT_TYPES_NONE\n\u001b[0;32m   1320\u001b[0m     \u001b[38;5;129;01mand\u001b[39;00m executing_eagerly):\n\u001b[0;32m   1321\u001b[0m   \u001b[38;5;66;03m# No tape is watching; skip to running the function.\u001b[39;00m\n\u001b[1;32m-> 1322\u001b[0m   \u001b[38;5;28;01mreturn\u001b[39;00m \u001b[38;5;28mself\u001b[39m\u001b[38;5;241m.\u001b[39m_inference_function\u001b[38;5;241m.\u001b[39mcall_preflattened(args)\n\u001b[0;32m   1323\u001b[0m forward_backward \u001b[38;5;241m=\u001b[39m \u001b[38;5;28mself\u001b[39m\u001b[38;5;241m.\u001b[39m_select_forward_and_backward_functions(\n\u001b[0;32m   1324\u001b[0m     args,\n\u001b[0;32m   1325\u001b[0m     possible_gradient_type,\n\u001b[0;32m   1326\u001b[0m     executing_eagerly)\n\u001b[0;32m   1327\u001b[0m forward_function, args_with_tangents \u001b[38;5;241m=\u001b[39m forward_backward\u001b[38;5;241m.\u001b[39mforward()\n",
      "File \u001b[1;32m~\\AppData\\Local\\anaconda3\\envs\\pytorchbook\\Lib\\site-packages\\tensorflow\\python\\eager\\polymorphic_function\\atomic_function.py:216\u001b[0m, in \u001b[0;36mAtomicFunction.call_preflattened\u001b[1;34m(self, args)\u001b[0m\n\u001b[0;32m    214\u001b[0m \u001b[38;5;28;01mdef\u001b[39;00m \u001b[38;5;21mcall_preflattened\u001b[39m(\u001b[38;5;28mself\u001b[39m, args: Sequence[core\u001b[38;5;241m.\u001b[39mTensor]) \u001b[38;5;241m-\u001b[39m\u001b[38;5;241m>\u001b[39m Any:\n\u001b[0;32m    215\u001b[0m \u001b[38;5;250m  \u001b[39m\u001b[38;5;124;03m\"\"\"Calls with flattened tensor inputs and returns the structured output.\"\"\"\u001b[39;00m\n\u001b[1;32m--> 216\u001b[0m   flat_outputs \u001b[38;5;241m=\u001b[39m \u001b[38;5;28mself\u001b[39m\u001b[38;5;241m.\u001b[39mcall_flat(\u001b[38;5;241m*\u001b[39margs)\n\u001b[0;32m    217\u001b[0m   \u001b[38;5;28;01mreturn\u001b[39;00m \u001b[38;5;28mself\u001b[39m\u001b[38;5;241m.\u001b[39mfunction_type\u001b[38;5;241m.\u001b[39mpack_output(flat_outputs)\n",
      "File \u001b[1;32m~\\AppData\\Local\\anaconda3\\envs\\pytorchbook\\Lib\\site-packages\\tensorflow\\python\\eager\\polymorphic_function\\atomic_function.py:251\u001b[0m, in \u001b[0;36mAtomicFunction.call_flat\u001b[1;34m(self, *args)\u001b[0m\n\u001b[0;32m    249\u001b[0m \u001b[38;5;28;01mwith\u001b[39;00m record\u001b[38;5;241m.\u001b[39mstop_recording():\n\u001b[0;32m    250\u001b[0m   \u001b[38;5;28;01mif\u001b[39;00m \u001b[38;5;28mself\u001b[39m\u001b[38;5;241m.\u001b[39m_bound_context\u001b[38;5;241m.\u001b[39mexecuting_eagerly():\n\u001b[1;32m--> 251\u001b[0m     outputs \u001b[38;5;241m=\u001b[39m \u001b[38;5;28mself\u001b[39m\u001b[38;5;241m.\u001b[39m_bound_context\u001b[38;5;241m.\u001b[39mcall_function(\n\u001b[0;32m    252\u001b[0m         \u001b[38;5;28mself\u001b[39m\u001b[38;5;241m.\u001b[39mname,\n\u001b[0;32m    253\u001b[0m         \u001b[38;5;28mlist\u001b[39m(args),\n\u001b[0;32m    254\u001b[0m         \u001b[38;5;28mlen\u001b[39m(\u001b[38;5;28mself\u001b[39m\u001b[38;5;241m.\u001b[39mfunction_type\u001b[38;5;241m.\u001b[39mflat_outputs),\n\u001b[0;32m    255\u001b[0m     )\n\u001b[0;32m    256\u001b[0m   \u001b[38;5;28;01melse\u001b[39;00m:\n\u001b[0;32m    257\u001b[0m     outputs \u001b[38;5;241m=\u001b[39m make_call_op_in_graph(\n\u001b[0;32m    258\u001b[0m         \u001b[38;5;28mself\u001b[39m,\n\u001b[0;32m    259\u001b[0m         \u001b[38;5;28mlist\u001b[39m(args),\n\u001b[0;32m    260\u001b[0m         \u001b[38;5;28mself\u001b[39m\u001b[38;5;241m.\u001b[39m_bound_context\u001b[38;5;241m.\u001b[39mfunction_call_options\u001b[38;5;241m.\u001b[39mas_attrs(),\n\u001b[0;32m    261\u001b[0m     )\n",
      "File \u001b[1;32m~\\AppData\\Local\\anaconda3\\envs\\pytorchbook\\Lib\\site-packages\\tensorflow\\python\\eager\\context.py:1500\u001b[0m, in \u001b[0;36mContext.call_function\u001b[1;34m(self, name, tensor_inputs, num_outputs)\u001b[0m\n\u001b[0;32m   1498\u001b[0m cancellation_context \u001b[38;5;241m=\u001b[39m cancellation\u001b[38;5;241m.\u001b[39mcontext()\n\u001b[0;32m   1499\u001b[0m \u001b[38;5;28;01mif\u001b[39;00m cancellation_context \u001b[38;5;129;01mis\u001b[39;00m \u001b[38;5;28;01mNone\u001b[39;00m:\n\u001b[1;32m-> 1500\u001b[0m   outputs \u001b[38;5;241m=\u001b[39m execute\u001b[38;5;241m.\u001b[39mexecute(\n\u001b[0;32m   1501\u001b[0m       name\u001b[38;5;241m.\u001b[39mdecode(\u001b[38;5;124m\"\u001b[39m\u001b[38;5;124mutf-8\u001b[39m\u001b[38;5;124m\"\u001b[39m),\n\u001b[0;32m   1502\u001b[0m       num_outputs\u001b[38;5;241m=\u001b[39mnum_outputs,\n\u001b[0;32m   1503\u001b[0m       inputs\u001b[38;5;241m=\u001b[39mtensor_inputs,\n\u001b[0;32m   1504\u001b[0m       attrs\u001b[38;5;241m=\u001b[39mattrs,\n\u001b[0;32m   1505\u001b[0m       ctx\u001b[38;5;241m=\u001b[39m\u001b[38;5;28mself\u001b[39m,\n\u001b[0;32m   1506\u001b[0m   )\n\u001b[0;32m   1507\u001b[0m \u001b[38;5;28;01melse\u001b[39;00m:\n\u001b[0;32m   1508\u001b[0m   outputs \u001b[38;5;241m=\u001b[39m execute\u001b[38;5;241m.\u001b[39mexecute_with_cancellation(\n\u001b[0;32m   1509\u001b[0m       name\u001b[38;5;241m.\u001b[39mdecode(\u001b[38;5;124m\"\u001b[39m\u001b[38;5;124mutf-8\u001b[39m\u001b[38;5;124m\"\u001b[39m),\n\u001b[0;32m   1510\u001b[0m       num_outputs\u001b[38;5;241m=\u001b[39mnum_outputs,\n\u001b[1;32m   (...)\u001b[0m\n\u001b[0;32m   1514\u001b[0m       cancellation_manager\u001b[38;5;241m=\u001b[39mcancellation_context,\n\u001b[0;32m   1515\u001b[0m   )\n",
      "File \u001b[1;32m~\\AppData\\Local\\anaconda3\\envs\\pytorchbook\\Lib\\site-packages\\tensorflow\\python\\eager\\execute.py:53\u001b[0m, in \u001b[0;36mquick_execute\u001b[1;34m(op_name, num_outputs, inputs, attrs, ctx, name)\u001b[0m\n\u001b[0;32m     51\u001b[0m \u001b[38;5;28;01mtry\u001b[39;00m:\n\u001b[0;32m     52\u001b[0m   ctx\u001b[38;5;241m.\u001b[39mensure_initialized()\n\u001b[1;32m---> 53\u001b[0m   tensors \u001b[38;5;241m=\u001b[39m pywrap_tfe\u001b[38;5;241m.\u001b[39mTFE_Py_Execute(ctx\u001b[38;5;241m.\u001b[39m_handle, device_name, op_name,\n\u001b[0;32m     54\u001b[0m                                       inputs, attrs, num_outputs)\n\u001b[0;32m     55\u001b[0m \u001b[38;5;28;01mexcept\u001b[39;00m core\u001b[38;5;241m.\u001b[39m_NotOkStatusException \u001b[38;5;28;01mas\u001b[39;00m e:\n\u001b[0;32m     56\u001b[0m   \u001b[38;5;28;01mif\u001b[39;00m name \u001b[38;5;129;01mis\u001b[39;00m \u001b[38;5;129;01mnot\u001b[39;00m \u001b[38;5;28;01mNone\u001b[39;00m:\n",
      "\u001b[1;31mKeyboardInterrupt\u001b[0m: "
     ]
    }
   ],
   "source": [
    "# Train the LSTM model\n",
    "print(\"Time =\", datetime.now())\n",
    "history = thisLSTM.fit(data_train_padded, data_train_label, epochs=10, batch_size=64, validation_data=(data_test_padded, data_test_label))\n",
    "print(\"Time =\", datetime.now())"
   ]
  },
  {
   "cell_type": "markdown",
   "id": "d7aed231-dda6-4bb3-9de8-993b6e5e6e09",
   "metadata": {},
   "source": [
    "### 2.9. The Performance of LSTM model\n",
    "\n",
    "The LSTM model achieved an accuracy that will be higher than SimpleRNN model, which is $63.09 \\%$ on the IMDB movie reviews dataset. The lowest loss recorded is $63.87 \\%$, lower than SimpleRNN model. \n",
    "\n",
    "LSTM models can process long sequences of text and handle the vanishing gradient problem that affects standard RNNs.\n",
    "\n",
    "**Accuracy**\n",
    "\n",
    "Based on this experience, the LSTM model performs better on the IMDB dataset than the SimpleRNN or the Plain Vanilla RNN model.\n",
    "\n",
    "**Training Time**\n",
    "\n",
    "The training time of the LSTM model requires a very long time and a lot of processing resources. \n",
    "\n",
    "**Model Size**\n",
    "\n",
    "LSTMs typically have a larger number of parameters due to their complex gating mechanisms, which can lead to a larger model size. However, specific details on the model size in the context of the IMDB dataset are not provided in the search results."
   ]
  },
  {
   "cell_type": "code",
   "execution_count": 121,
   "id": "8be30687-bc94-41c1-b281-f02d422c087a",
   "metadata": {},
   "outputs": [
    {
     "name": "stdout",
     "output_type": "stream",
     "text": [
      "Evaluate on test data\n",
      "\u001b[1m63/63\u001b[0m \u001b[32m━━━━━━━━━━━━━━━━━━━━\u001b[0m\u001b[37m\u001b[0m \u001b[1m47s\u001b[0m 751ms/step - accuracy: 0.5676 - loss: 0.7678\n",
      "Test loss, Test accuracy: [0.7769380211830139, 0.5644999742507935]\n",
      "\u001b[1m250/250\u001b[0m \u001b[32m━━━━━━━━━━━━━━━━━━━━\u001b[0m\u001b[37m\u001b[0m \u001b[1m99s\u001b[0m 396ms/step\n",
      "[[4031    0]\n",
      " [3969    0]]\n"
     ]
    },
    {
     "data": {
      "image/png": "[encoded data removed]",
      "text/plain": [
       "<Figure size 500x400 with 2 Axes>"
      ]
     },
     "metadata": {},
     "output_type": "display_data"
    }
   ],
   "source": [
    "# Evaluate the model on the test data using `evaluate`\n",
    "print(\"Evaluate on test data\")\n",
    "results = thisLSTM.evaluate(data_test_padded, data_test_label, batch_size=128)\n",
    "print(\"Test loss, Test accuracy:\", results)\n",
    "\n",
    "# Plot confusion matrix\n",
    "from sklearn.metrics import confusion_matrix\n",
    "\n",
    "# Predict the probabilities for the test data\n",
    "probabilities = thisLSTM.predict(data_test_padded)\n",
    "\n",
    "# Convert probabilities to class labels\n",
    "predictions = np.argmax(probabilities, axis=1)\n",
    "\n",
    "# Compute the confusion matrix using TensorFlow\n",
    "conf_matrix = tf.math.confusion_matrix(data_test_label, predictions)\n",
    "\n",
    "# To print the confusion matrix, you need to run it within a TensorFlow session (for TensorFlow 1.x)\n",
    "# For TensorFlow 2.x, you can directly print it as it executes eagerly\n",
    "print(conf_matrix.numpy())\n",
    "\n",
    "# Assuming conf_matrix is the confusion matrix obtained from TensorFlow\n",
    "conf_matrix_np = conf_matrix.numpy()\n",
    "\n",
    "plt.figure(figsize=(5, 4))\n",
    "sns.heatmap(conf_matrix_np, annot=True, fmt='g')\n",
    "plt.xlabel('Predicted')\n",
    "plt.ylabel('True')\n",
    "plt.show()"
   ]
  },
  {
   "cell_type": "markdown",
   "id": "44639603-60b3-43f1-a5f7-58781813537e",
   "metadata": {},
   "source": [
    "In this study, we use a confusion matrix that summarizes the performance of the Plain Vanilla RNN model as below. \n",
    "\n",
    "The confusion matrix displays the number of instances the model produces on the test data.\n",
    "\n",
    "- True positives (TP): occur when the Plain Vanilla RNN model accurately predicts a positive data point.\n",
    "- True negatives (TN): occur when the Plain Vanilla RNN model accurately predicts a negative data point.\n",
    "- False positives (FP): occur when the Plain Vanilla RNN model predicts a positive data point incorrectly.\n",
    "- False negatives (FN): occur when the Plain Vanilla RNN model mispredicts a negative data point."
   ]
  },
  {
   "cell_type": "markdown",
   "id": "4417b114-bb30-4a38-96dc-b33c0102930c",
   "metadata": {},
   "source": [
    "====================================\n",
    "==================================="
   ]
  },
  {
   "cell_type": "markdown",
   "id": "8938b072-e5ef-46d2-9302-912983631fa6",
   "metadata": {},
   "source": [
    "# to be continued to `GRU.ipynb`\n"
   ]
  },
  {
   "cell_type": "code",
   "execution_count": null,
   "id": "a6fc6a34-1aa6-4a7e-9a08-1d9664c2125b",
   "metadata": {},
   "outputs": [],
   "source": []
  }
 ],
 "metadata": {
  "kernelspec": {
   "display_name": "Python 3 (ipykernel)",
   "language": "python",
   "name": "python3"
  },
  "language_info": {
   "codemirror_mode": {
    "name": "ipython",
    "version": 3
   },
   "file_extension": ".py",
   "mimetype": "text/x-python",
   "name": "python",
   "nbconvert_exporter": "python",
   "pygments_lexer": "ipython3",
   "version": "3.11.8"
  }
 },
 "nbformat": 4,
 "nbformat_minor": 5
}
